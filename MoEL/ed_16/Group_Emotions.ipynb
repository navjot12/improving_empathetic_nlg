{
 "cells": [
  {
   "cell_type": "code",
   "execution_count": 1,
   "id": "ba7329e1",
   "metadata": {},
   "outputs": [],
   "source": [
    "import numpy as np"
   ]
  },
  {
   "cell_type": "code",
   "execution_count": 4,
   "id": "57d1f90d",
   "metadata": {},
   "outputs": [],
   "source": [
    "train_emotions = np.load('sys_emotion_texts.train.npy', allow_pickle=True)\n",
    "dev_emotions = np.load('sys_emotion_texts.dev.npy', allow_pickle=True)\n",
    "test_emotions = np.load('sys_emotion_texts.test.npy', allow_pickle=True)"
   ]
  },
  {
   "cell_type": "code",
   "execution_count": 5,
   "id": "c14c9036",
   "metadata": {},
   "outputs": [
    {
     "data": {
      "text/plain": [
       "{'afraid': 'afraid_terrified_anxious',\n",
       " 'angry': 'angry_annoyed_furious',\n",
       " 'annoyed': 'angry_annoyed_furious',\n",
       " 'anticipating': 'prepared_anticipating_apprehensive',\n",
       " 'anxious': 'afraid_terrified_anxious',\n",
       " 'apprehensive': 'prepared_anticipating_apprehensive',\n",
       " 'ashamed': 'guilty_embarrassed_ashamed',\n",
       " 'caring': 'caring',\n",
       " 'confident': 'hopeful_confident',\n",
       " 'content': 'grateful_content',\n",
       " 'devastated': 'sad_devastated',\n",
       " 'disappointed': 'disappointed_disgusted',\n",
       " 'disgusted': 'disappointed_disgusted',\n",
       " 'embarrassed': 'guilty_embarrassed_ashamed',\n",
       " 'excited': 'excited_joyful',\n",
       " 'faithful': 'trusting_faithful',\n",
       " 'furious': 'angry_annoyed_furious',\n",
       " 'grateful': 'grateful_content',\n",
       " 'guilty': 'guilty_embarrassed_ashamed',\n",
       " 'hopeful': 'hopeful_confident',\n",
       " 'impressed': 'proud_impressed',\n",
       " 'jealous': 'jealous',\n",
       " 'joyful': 'excited_joyful',\n",
       " 'lonely': 'lonely',\n",
       " 'nostalgic': 'sentimental_nostalgic',\n",
       " 'prepared': 'prepared_anticipating_apprehensive',\n",
       " 'proud': 'proud_impressed',\n",
       " 'sad': 'sad_devastated',\n",
       " 'sentimental': 'sentimental_nostalgic',\n",
       " 'surprised': 'surprised',\n",
       " 'terrified': 'afraid_terrified_anxious',\n",
       " 'trusting': 'trusting_faithful'}"
      ]
     },
     "execution_count": 5,
     "metadata": {},
     "output_type": "execute_result"
    }
   ],
   "source": [
    "emotion_mapper = {}\n",
    "for emotion in np.unique(train_emotions):\n",
    "    emotion_mapper[emotion] = emotion\n",
    "\n",
    "emotion_mapper.update({\n",
    "    'guilty': 'guilty_embarrassed_ashamed',\n",
    "    'ashamed':'guilty_embarrassed_ashamed',\n",
    "    'embarrassed':'guilty_embarrassed_ashamed',\n",
    "    \n",
    "    'grateful':'grateful_content',\n",
    "    'content':'grateful_content',\n",
    "    \n",
    "    'disappointed':'disappointed_disgusted',\n",
    "    'disgusted':'disappointed_disgusted',\n",
    "    \n",
    "    'angry':'angry_annoyed_furious',\n",
    "    'annoyed':'angry_annoyed_furious',\n",
    "    'furious':'angry_annoyed_furious',\n",
    "    \n",
    "    'prepared':'prepared_anticipating_apprehensive',\n",
    "    'anticipating':'prepared_anticipating_apprehensive',\n",
    "    'apprehensive':'prepared_anticipating_apprehensive',\n",
    "    \n",
    "    'hopeful':'hopeful_confident',\n",
    "    'confident':'hopeful_confident',\n",
    "\n",
    "    'sad':'sad_devastated',\n",
    "    'devastated':'sad_devastated',\n",
    "    \n",
    "    'trusting':'trusting_faithful',\n",
    "    'faithful':'trusting_faithful',\n",
    "    \n",
    "    'proud':'proud_impressed',\n",
    "    'impressed':'proud_impressed',\n",
    "    \n",
    "    'excited':'excited_joyful',\n",
    "    'joyful':'excited_joyful',\n",
    "    \n",
    "    'sentimental':'sentimental_nostalgic',\n",
    "    'nostalgic':'sentimental_nostalgic',\n",
    "    \n",
    "    'afraid':'afraid_terrified_anxious',\n",
    "    'terrified':'afraid_terrified_anxious',\n",
    "    'anxious':'afraid_terrified_anxious'\n",
    "})\n",
    "\n",
    "emotion_mapper"
   ]
  },
  {
   "cell_type": "code",
   "execution_count": 6,
   "id": "a92a4da7",
   "metadata": {},
   "outputs": [],
   "source": [
    "mapped_train_emotions = [emotion_mapper[emotion] for emotion in train_emotions]\n",
    "mapped_dev_emotions = [emotion_mapper[emotion] for emotion in dev_emotions]\n",
    "mapped_test_emotions = [emotion_mapper[emotion] for emotion in test_emotions]"
   ]
  },
  {
   "cell_type": "code",
   "execution_count": 5,
   "id": "ebaa6ec7",
   "metadata": {},
   "outputs": [],
   "source": [
    "np.save('sys_grouped_emotion_texts.train.npy', mapped_train_emotions)\n",
    "np.save('sys_grouped_emotion_texts.dev.npy', mapped_dev_emotions)\n",
    "np.save('sys_grouped_emotion_texts.test.npy', mapped_test_emotions)"
   ]
  },
  {
   "cell_type": "code",
   "execution_count": 15,
   "id": "a2fced5d",
   "metadata": {},
   "outputs": [
    {
     "data": {
      "text/plain": [
       "{'afraid_terrified_anxious': 0,\n",
       " 'angry_annoyed_furious': 1,\n",
       " 'caring': 2,\n",
       " 'disappointed_disgusted': 3,\n",
       " 'excited_joyful': 4,\n",
       " 'grateful_content': 5,\n",
       " 'guilty_embarrassed_ashamed': 6,\n",
       " 'hopeful_confident': 7,\n",
       " 'jealous': 8,\n",
       " 'lonely': 9,\n",
       " 'prepared_anticipating_apprehensive': 10,\n",
       " 'proud_impressed': 11,\n",
       " 'sad_devastated': 12,\n",
       " 'sentimental_nostalgic': 13,\n",
       " 'surprised': 14,\n",
       " 'trusting_faithful': 15}"
      ]
     },
     "execution_count": 15,
     "metadata": {},
     "output_type": "execute_result"
    }
   ],
   "source": [
    "emotion_id = {}\n",
    "count = 0\n",
    "for emotion in np.unique(mapped_train_emotions):\n",
    "    emotion_id[emotion] = count\n",
    "    count += 1\n",
    "\n",
    "emotion_id"
   ]
  },
  {
   "cell_type": "code",
   "execution_count": null,
   "id": "3d5c250d",
   "metadata": {},
   "outputs": [],
   "source": []
  }
 ],
 "metadata": {
  "kernelspec": {
   "display_name": "Python 3 (ipykernel)",
   "language": "python",
   "name": "python3"
  },
  "language_info": {
   "codemirror_mode": {
    "name": "ipython",
    "version": 3
   },
   "file_extension": ".py",
   "mimetype": "text/x-python",
   "name": "python",
   "nbconvert_exporter": "python",
   "pygments_lexer": "ipython3",
   "version": "3.9.12"
  }
 },
 "nbformat": 4,
 "nbformat_minor": 5
}
