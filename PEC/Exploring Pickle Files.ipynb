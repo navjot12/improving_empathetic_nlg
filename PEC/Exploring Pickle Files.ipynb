{
  "cells": [
    {
      "cell_type": "code",
      "execution_count": 35,
      "id": "29e7b766",
      "metadata": {
        "id": "29e7b766",
        "outputId": "ea2b7241-c2d4-429d-d600-ee27b154dc07",
        "colab": {
          "base_uri": "https://localhost:8080/"
        }
      },
      "outputs": [
        {
          "output_type": "execute_result",
          "data": {
            "text/plain": [
              "0"
            ]
          },
          "metadata": {},
          "execution_count": 35
        }
      ],
      "source": [
        "import os\n",
        "import pickle\n",
        "from matplotlib import pyplot as plt\n",
        "os.system('pwd')"
      ]
    },
    {
      "cell_type": "code",
      "source": [
        "!echo deb http://packages.cloud.google.com/apt gcsfuse-bionic main > /etc/apt/sources.list.d/gcsfuse.list\n",
        "!curl https://packages.cloud.google.com/apt/doc/apt-key.gpg | apt-key add -\n",
        "!apt -qq update\n",
        "!apt -qq install gcsfuse\n",
        "# !mkdir pec-data\n",
        "# !gcsfuse --implicit-dirs pec-data pec"
      ],
      "metadata": {
        "id": "xUk4aQgToYiS",
        "outputId": "94a0b6b9-37ef-4069-ce54-beadc8af2042",
        "colab": {
          "base_uri": "https://localhost:8080/"
        }
      },
      "id": "xUk4aQgToYiS",
      "execution_count": 36,
      "outputs": [
        {
          "output_type": "stream",
          "name": "stdout",
          "text": [
            "  % Total    % Received % Xferd  Average Speed   Time    Time     Time  Current\n",
            "                                 Dload  Upload   Total   Spent    Left  Speed\n",
            "\r  0     0    0     0    0     0      0      0 --:--:-- --:--:-- --:--:--     0\r100  2537  100  2537    0     0  93962      0 --:--:-- --:--:-- --:--:-- 93962\n",
            "OK\n",
            "28 packages can be upgraded. Run 'apt list --upgradable' to see them.\n",
            "gcsfuse is already the newest version (0.41.7).\n",
            "The following package was automatically installed and is no longer required:\n",
            "  libnvidia-common-460\n",
            "Use 'apt autoremove' to remove it.\n",
            "0 upgraded, 0 newly installed, 0 to remove and 28 not upgraded.\n"
          ]
        }
      ]
    },
    {
      "cell_type": "code",
      "execution_count": 37,
      "id": "5e476e9e",
      "metadata": {
        "id": "5e476e9e",
        "outputId": "96f91d4a-b95a-42fe-8682-076776378d24",
        "colab": {
          "base_uri": "https://localhost:8080/"
        }
      },
      "outputs": [
        {
          "output_type": "execute_result",
          "data": {
            "text/plain": [
              "(list, 19868)"
            ]
          },
          "metadata": {},
          "execution_count": 37
        }
      ],
      "source": [
        "with open('pec-data/valid_cleaned_bert.pkl', 'rb') as f:\n",
        "    data = pickle.load(f)\n",
        "\n",
        "type(data), len(data)"
      ]
    },
    {
      "cell_type": "code",
      "execution_count": null,
      "id": "2fb13cc4",
      "metadata": {
        "id": "2fb13cc4"
      },
      "outputs": [],
      "source": [
        "users_count_persona = {}\n",
        "\n",
        "for conversation in data:\n",
        "    for user in conversation:\n",
        "        if user[0] not in users_count_persona:\n",
        "            users_count_persona[user[0]] = [0, []]\n",
        "        \n",
        "        users_count_persona[user[0]] = [users_count_persona[user[0]][0] + 1, user[1]]"
      ]
    },
    {
      "cell_type": "code",
      "execution_count": null,
      "id": "d60a8fe2",
      "metadata": {
        "scrolled": false,
        "id": "d60a8fe2",
        "outputId": "9cfbbc33-842f-4c2e-bf0b-a49294e094dd"
      },
      "outputs": [
        {
          "data": {
            "image/png": "[encoded data removed]",
            "text/plain": [
              "<Figure size 720x720 with 1 Axes>"
            ]
          },
          "metadata": {
            "needs_background": "light"
          },
          "output_type": "display_data"
        }
      ],
      "source": [
        "plt.figure(0, figsize=(10,10))\n",
        "plt.plot(sorted([users_count_persona[key][0] for key in users_count_persona], reverse=True))\n",
        "plt.grid(True)"
      ]
    },
    {
      "cell_type": "code",
      "execution_count": null,
      "id": "7a5c12e3",
      "metadata": {
        "id": "7a5c12e3",
        "outputId": "49249f6d-b25f-4a1d-f680-a159b36628b8"
      },
      "outputs": [
        {
          "data": {
            "text/plain": [
              "164"
            ]
          },
          "execution_count": 85,
          "metadata": {},
          "output_type": "execute_result"
        }
      ],
      "source": [
        "len(list(filter(lambda x: x>25, [users_count_persona[key][0] for key in users_count_persona])))"
      ]
    },
    {
      "cell_type": "code",
      "execution_count": null,
      "id": "2ff2419a",
      "metadata": {
        "id": "2ff2419a",
        "outputId": "d420351c-ddf5-4578-f239-df445f273bdd"
      },
      "outputs": [
        {
          "data": {
            "text/plain": [
              "[('mrs_sample',\n",
              "  [\"i've just finished writing my phd!!\",\n",
              "   'i just wanted to tell someone, everyone at home is sleeping.',\n",
              "   \"i can't believe i've finished!!\",\n",
              "   ':)']),\n",
              " ('tallgirl32',\n",
              "  ['congratulations!!!!!!',\n",
              "   'that is an amazing accomplishment!',\n",
              "   'i say, screw it!',\n",
              "   'wake everyone up.',\n",
              "   \"you've earned it!\",\n",
              "   ':-)'])]"
            ]
          },
          "execution_count": 57,
          "metadata": {},
          "output_type": "execute_result"
        }
      ],
      "source": [
        "data[0]"
      ]
    },
    {
      "cell_type": "code",
      "execution_count": null,
      "id": "e61d1a0a",
      "metadata": {
        "id": "e61d1a0a"
      },
      "outputs": [],
      "source": []
    }
  ],
  "metadata": {
    "kernelspec": {
      "display_name": "Python 3 (ipykernel)",
      "language": "python",
      "name": "python3"
    },
    "language_info": {
      "codemirror_mode": {
        "name": "ipython",
        "version": 3
      },
      "file_extension": ".py",
      "mimetype": "text/x-python",
      "name": "python",
      "nbconvert_exporter": "python",
      "pygments_lexer": "ipython3",
      "version": "3.9.12"
    },
    "colab": {
      "provenance": []
    }
  },
  "nbformat": 4,
  "nbformat_minor": 5
}