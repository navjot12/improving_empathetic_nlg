{
  "cells": [
    {
      "cell_type": "code",
      "execution_count": 1,
      "id": "29e7b766",
      "metadata": {
        "id": "29e7b766",
        "outputId": "749a545b-e88d-4cdc-a71c-f912fe9f2451",
        "colab": {
          "base_uri": "https://localhost:8080/"
        }
      },
      "outputs": [
        {
          "output_type": "stream",
          "name": "stdout",
          "text": [
            "  % Total    % Received % Xferd  Average Speed   Time    Time     Time  Current\n",
            "                                 Dload  Upload   Total   Spent    Left  Speed\n",
            "\r  0     0    0     0    0     0      0      0 --:--:-- --:--:-- --:--:--     0\r100  2537  100  2537    0     0   107k      0 --:--:-- --:--:-- --:--:--  112k\n",
            "OK\n",
            "28 packages can be upgraded. Run 'apt list --upgradable' to see them.\n",
            "gcsfuse is already the newest version (0.41.7).\n",
            "The following package was automatically installed and is no longer required:\n",
            "  libnvidia-common-460\n",
            "Use 'apt autoremove' to remove it.\n",
            "0 upgraded, 0 newly installed, 0 to remove and 28 not upgraded.\n"
          ]
        }
      ],
      "source": [
        "# Generate auth tokens for Colab\n",
        "from google.colab import auth\n",
        "auth.authenticate_user()\n",
        "\n",
        "!echo deb http://packages.cloud.google.com/apt gcsfuse-bionic main > /etc/apt/sources.list.d/gcsfuse.list\n",
        "!curl https://packages.cloud.google.com/apt/doc/apt-key.gpg | apt-key add -\n",
        "!apt -qq update\n",
        "!apt -qq install gcsfuse\n",
        "# !mkdir pec-data\n",
        "# !gcsfuse --implicit-dirs pec-data pec"
      ]
    },
    {
      "cell_type": "code",
      "source": [
        "import os\n",
        "import pickle\n",
        "from matplotlib import pyplot as plt"
      ],
      "metadata": {
        "id": "xUk4aQgToYiS"
      },
      "id": "xUk4aQgToYiS",
      "execution_count": 2,
      "outputs": []
    },
    {
      "cell_type": "code",
      "execution_count": 3,
      "id": "5e476e9e",
      "metadata": {
        "id": "5e476e9e",
        "outputId": "6bc4fb10-19ab-41fb-cdf6-8e6e47b76b71",
        "colab": {
          "base_uri": "https://localhost:8080/"
        }
      },
      "outputs": [
        {
          "output_type": "execute_result",
          "data": {
            "text/plain": [
              "(list, 19868)"
            ]
          },
          "metadata": {},
          "execution_count": 3
        }
      ],
      "source": [
        "with open('pec-data/valid_cleaned_bert.pkl', 'rb') as f:\n",
        "    data = pickle.load(f)\n",
        "\n",
        "type(data), len(data)"
      ]
    },
    {
      "cell_type": "code",
      "execution_count": 4,
      "id": "2fb13cc4",
      "metadata": {
        "id": "2fb13cc4"
      },
      "outputs": [],
      "source": [
        "users_count_persona = {}\n",
        "\n",
        "for conversation in data:\n",
        "    for user in conversation:\n",
        "        if user[0] not in users_count_persona:\n",
        "            users_count_persona[user[0]] = [0, []]\n",
        "        \n",
        "        users_count_persona[user[0]] = [users_count_persona[user[0]][0] + 1, user[1]]"
      ]
    },
    {
      "cell_type": "code",
      "execution_count": 5,
      "id": "d60a8fe2",
      "metadata": {
        "scrolled": false,
        "id": "d60a8fe2",
        "outputId": "1ab4b7c4-39f9-4723-c05f-146b59bf6f5c",
        "colab": {
          "base_uri": "https://localhost:8080/",
          "height": 592
        }
      },
      "outputs": [
        {
          "output_type": "display_data",
          "data": {
            "text/plain": [
              "<Figure size 720x720 with 1 Axes>"
            ],
            "image/png": "[encoded data removed]"
          },
          "metadata": {
            "needs_background": "light"
          }
        }
      ],
      "source": [
        "plt.figure(0, figsize=(10,10))\n",
        "plt.plot(sorted([users_count_persona[key][0] for key in users_count_persona], reverse=True))\n",
        "plt.grid(True)"
      ]
    },
    {
      "cell_type": "code",
      "execution_count": 6,
      "id": "7a5c12e3",
      "metadata": {
        "id": "7a5c12e3",
        "outputId": "1eb920a3-54c3-4471-b4d8-7dc7f7bc7f50",
        "colab": {
          "base_uri": "https://localhost:8080/"
        }
      },
      "outputs": [
        {
          "output_type": "execute_result",
          "data": {
            "text/plain": [
              "164"
            ]
          },
          "metadata": {},
          "execution_count": 6
        }
      ],
      "source": [
        "len(list(filter(lambda x: x>25, [users_count_persona[key][0] for key in users_count_persona])))"
      ]
    },
    {
      "cell_type": "code",
      "execution_count": 7,
      "id": "2ff2419a",
      "metadata": {
        "id": "2ff2419a",
        "outputId": "90e402ca-9dbc-40b8-89c3-01838f0c73e0",
        "colab": {
          "base_uri": "https://localhost:8080/"
        }
      },
      "outputs": [
        {
          "output_type": "execute_result",
          "data": {
            "text/plain": [
              "[('mrs_sample',\n",
              "  [\"i've just finished writing my phd!!\",\n",
              "   'i just wanted to tell someone, everyone at home is sleeping.',\n",
              "   \"i can't believe i've finished!!\",\n",
              "   ':)']),\n",
              " ('tallgirl32',\n",
              "  ['congratulations!!!!!!',\n",
              "   'that is an amazing accomplishment!',\n",
              "   'i say, screw it!',\n",
              "   'wake everyone up.',\n",
              "   \"you've earned it!\",\n",
              "   ':-)'])]"
            ]
          },
          "metadata": {},
          "execution_count": 7
        }
      ],
      "source": [
        "data[0]"
      ]
    },
    {
      "cell_type": "code",
      "execution_count": null,
      "id": "e61d1a0a",
      "metadata": {
        "id": "e61d1a0a"
      },
      "outputs": [],
      "source": []
    }
  ],
  "metadata": {
    "kernelspec": {
      "display_name": "Python 3 (ipykernel)",
      "language": "python",
      "name": "python3"
    },
    "language_info": {
      "codemirror_mode": {
        "name": "ipython",
        "version": 3
      },
      "file_extension": ".py",
      "mimetype": "text/x-python",
      "name": "python",
      "nbconvert_exporter": "python",
      "pygments_lexer": "ipython3",
      "version": "3.9.12"
    },
    "colab": {
      "provenance": []
    }
  },
  "nbformat": 4,
  "nbformat_minor": 5
}