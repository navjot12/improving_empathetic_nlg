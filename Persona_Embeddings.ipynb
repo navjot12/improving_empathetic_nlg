{
  "nbformat": 4,
  "nbformat_minor": 0,
  "metadata": {
    "colab": {
      "provenance": [],
      "collapsed_sections": [],
      "authorship_tag": "ABX9TyNBDVoxRT6o94qrBc4x1QHd",
      "include_colab_link": true
    },
    "kernelspec": {
      "name": "python3",
      "display_name": "Python 3"
    },
    "language_info": {
      "name": "python"
    },
    "widgets": {
      "application/vnd.jupyter.widget-state+json": {
        "d10d8fb69f0e4700a36b6380f6eeac6c": {
          "model_module": "@jupyter-widgets/controls",
          "model_name": "HBoxModel",
          "model_module_version": "1.5.0",
          "state": {
            "_dom_classes": [],
            "_model_module": "@jupyter-widgets/controls",
            "_model_module_version": "1.5.0",
            "_model_name": "HBoxModel",
            "_view_count": null,
            "_view_module": "@jupyter-widgets/controls",
            "_view_module_version": "1.5.0",
            "_view_name": "HBoxView",
            "box_style": "",
            "children": [
              "IPY_MODEL_678f9a92388c49ba972a5d5f63a2eedf",
              "IPY_MODEL_5ead5cd44ae14003a08330749ae23dd0",
              "IPY_MODEL_110bc62a540d41d891480d2579206c41"
            ],
            "layout": "IPY_MODEL_942810b8fc5447ada6b206a93b2ba546"
          }
        },
        "678f9a92388c49ba972a5d5f63a2eedf": {
          "model_module": "@jupyter-widgets/controls",
          "model_name": "HTMLModel",
          "model_module_version": "1.5.0",
          "state": {
            "_dom_classes": [],
            "_model_module": "@jupyter-widgets/controls",
            "_model_module_version": "1.5.0",
            "_model_name": "HTMLModel",
            "_view_count": null,
            "_view_module": "@jupyter-widgets/controls",
            "_view_module_version": "1.5.0",
            "_view_name": "HTMLView",
            "description": "",
            "description_tooltip": null,
            "layout": "IPY_MODEL_75d911a8d894440d9d941d472e8f3a74",
            "placeholder": "​",
            "style": "IPY_MODEL_bca17624e8f14e11896495a88bbe388c",
            "value": "100%"
          }
        },
        "5ead5cd44ae14003a08330749ae23dd0": {
          "model_module": "@jupyter-widgets/controls",
          "model_name": "FloatProgressModel",
          "model_module_version": "1.5.0",
          "state": {
            "_dom_classes": [],
            "_model_module": "@jupyter-widgets/controls",
            "_model_module_version": "1.5.0",
            "_model_name": "FloatProgressModel",
            "_view_count": null,
            "_view_module": "@jupyter-widgets/controls",
            "_view_module_version": "1.5.0",
            "_view_name": "ProgressView",
            "bar_style": "success",
            "description": "",
            "description_tooltip": null,
            "layout": "IPY_MODEL_58e32fa1e07d4056a811103c597234b4",
            "max": 3,
            "min": 0,
            "orientation": "horizontal",
            "style": "IPY_MODEL_6ca90d724dd94e13a5b5df0e4efacf07",
            "value": 3
          }
        },
        "110bc62a540d41d891480d2579206c41": {
          "model_module": "@jupyter-widgets/controls",
          "model_name": "HTMLModel",
          "model_module_version": "1.5.0",
          "state": {
            "_dom_classes": [],
            "_model_module": "@jupyter-widgets/controls",
            "_model_module_version": "1.5.0",
            "_model_name": "HTMLModel",
            "_view_count": null,
            "_view_module": "@jupyter-widgets/controls",
            "_view_module_version": "1.5.0",
            "_view_name": "HTMLView",
            "description": "",
            "description_tooltip": null,
            "layout": "IPY_MODEL_309a6557e55545d38a7bdb295c50ed2e",
            "placeholder": "​",
            "style": "IPY_MODEL_0b86193a62aa4b408938b6a1774b7d15",
            "value": " 3/3 [00:00&lt;00:00, 60.53it/s]"
          }
        },
        "942810b8fc5447ada6b206a93b2ba546": {
          "model_module": "@jupyter-widgets/base",
          "model_name": "LayoutModel",
          "model_module_version": "1.2.0",
          "state": {
            "_model_module": "@jupyter-widgets/base",
            "_model_module_version": "1.2.0",
            "_model_name": "LayoutModel",
            "_view_count": null,
            "_view_module": "@jupyter-widgets/base",
            "_view_module_version": "1.2.0",
            "_view_name": "LayoutView",
            "align_content": null,
            "align_items": null,
            "align_self": null,
            "border": null,
            "bottom": null,
            "display": null,
            "flex": null,
            "flex_flow": null,
            "grid_area": null,
            "grid_auto_columns": null,
            "grid_auto_flow": null,
            "grid_auto_rows": null,
            "grid_column": null,
            "grid_gap": null,
            "grid_row": null,
            "grid_template_areas": null,
            "grid_template_columns": null,
            "grid_template_rows": null,
            "height": null,
            "justify_content": null,
            "justify_items": null,
            "left": null,
            "margin": null,
            "max_height": null,
            "max_width": null,
            "min_height": null,
            "min_width": null,
            "object_fit": null,
            "object_position": null,
            "order": null,
            "overflow": null,
            "overflow_x": null,
            "overflow_y": null,
            "padding": null,
            "right": null,
            "top": null,
            "visibility": null,
            "width": null
          }
        },
        "75d911a8d894440d9d941d472e8f3a74": {
          "model_module": "@jupyter-widgets/base",
          "model_name": "LayoutModel",
          "model_module_version": "1.2.0",
          "state": {
            "_model_module": "@jupyter-widgets/base",
            "_model_module_version": "1.2.0",
            "_model_name": "LayoutModel",
            "_view_count": null,
            "_view_module": "@jupyter-widgets/base",
            "_view_module_version": "1.2.0",
            "_view_name": "LayoutView",
            "align_content": null,
            "align_items": null,
            "align_self": null,
            "border": null,
            "bottom": null,
            "display": null,
            "flex": null,
            "flex_flow": null,
            "grid_area": null,
            "grid_auto_columns": null,
            "grid_auto_flow": null,
            "grid_auto_rows": null,
            "grid_column": null,
            "grid_gap": null,
            "grid_row": null,
            "grid_template_areas": null,
            "grid_template_columns": null,
            "grid_template_rows": null,
            "height": null,
            "justify_content": null,
            "justify_items": null,
            "left": null,
            "margin": null,
            "max_height": null,
            "max_width": null,
            "min_height": null,
            "min_width": null,
            "object_fit": null,
            "object_position": null,
            "order": null,
            "overflow": null,
            "overflow_x": null,
            "overflow_y": null,
            "padding": null,
            "right": null,
            "top": null,
            "visibility": null,
            "width": null
          }
        },
        "bca17624e8f14e11896495a88bbe388c": {
          "model_module": "@jupyter-widgets/controls",
          "model_name": "DescriptionStyleModel",
          "model_module_version": "1.5.0",
          "state": {
            "_model_module": "@jupyter-widgets/controls",
            "_model_module_version": "1.5.0",
            "_model_name": "DescriptionStyleModel",
            "_view_count": null,
            "_view_module": "@jupyter-widgets/base",
            "_view_module_version": "1.2.0",
            "_view_name": "StyleView",
            "description_width": ""
          }
        },
        "58e32fa1e07d4056a811103c597234b4": {
          "model_module": "@jupyter-widgets/base",
          "model_name": "LayoutModel",
          "model_module_version": "1.2.0",
          "state": {
            "_model_module": "@jupyter-widgets/base",
            "_model_module_version": "1.2.0",
            "_model_name": "LayoutModel",
            "_view_count": null,
            "_view_module": "@jupyter-widgets/base",
            "_view_module_version": "1.2.0",
            "_view_name": "LayoutView",
            "align_content": null,
            "align_items": null,
            "align_self": null,
            "border": null,
            "bottom": null,
            "display": null,
            "flex": null,
            "flex_flow": null,
            "grid_area": null,
            "grid_auto_columns": null,
            "grid_auto_flow": null,
            "grid_auto_rows": null,
            "grid_column": null,
            "grid_gap": null,
            "grid_row": null,
            "grid_template_areas": null,
            "grid_template_columns": null,
            "grid_template_rows": null,
            "height": null,
            "justify_content": null,
            "justify_items": null,
            "left": null,
            "margin": null,
            "max_height": null,
            "max_width": null,
            "min_height": null,
            "min_width": null,
            "object_fit": null,
            "object_position": null,
            "order": null,
            "overflow": null,
            "overflow_x": null,
            "overflow_y": null,
            "padding": null,
            "right": null,
            "top": null,
            "visibility": null,
            "width": null
          }
        },
        "6ca90d724dd94e13a5b5df0e4efacf07": {
          "model_module": "@jupyter-widgets/controls",
          "model_name": "ProgressStyleModel",
          "model_module_version": "1.5.0",
          "state": {
            "_model_module": "@jupyter-widgets/controls",
            "_model_module_version": "1.5.0",
            "_model_name": "ProgressStyleModel",
            "_view_count": null,
            "_view_module": "@jupyter-widgets/base",
            "_view_module_version": "1.2.0",
            "_view_name": "StyleView",
            "bar_color": null,
            "description_width": ""
          }
        },
        "309a6557e55545d38a7bdb295c50ed2e": {
          "model_module": "@jupyter-widgets/base",
          "model_name": "LayoutModel",
          "model_module_version": "1.2.0",
          "state": {
            "_model_module": "@jupyter-widgets/base",
            "_model_module_version": "1.2.0",
            "_model_name": "LayoutModel",
            "_view_count": null,
            "_view_module": "@jupyter-widgets/base",
            "_view_module_version": "1.2.0",
            "_view_name": "LayoutView",
            "align_content": null,
            "align_items": null,
            "align_self": null,
            "border": null,
            "bottom": null,
            "display": null,
            "flex": null,
            "flex_flow": null,
            "grid_area": null,
            "grid_auto_columns": null,
            "grid_auto_flow": null,
            "grid_auto_rows": null,
            "grid_column": null,
            "grid_gap": null,
            "grid_row": null,
            "grid_template_areas": null,
            "grid_template_columns": null,
            "grid_template_rows": null,
            "height": null,
            "justify_content": null,
            "justify_items": null,
            "left": null,
            "margin": null,
            "max_height": null,
            "max_width": null,
            "min_height": null,
            "min_width": null,
            "object_fit": null,
            "object_position": null,
            "order": null,
            "overflow": null,
            "overflow_x": null,
            "overflow_y": null,
            "padding": null,
            "right": null,
            "top": null,
            "visibility": null,
            "width": null
          }
        },
        "0b86193a62aa4b408938b6a1774b7d15": {
          "model_module": "@jupyter-widgets/controls",
          "model_name": "DescriptionStyleModel",
          "model_module_version": "1.5.0",
          "state": {
            "_model_module": "@jupyter-widgets/controls",
            "_model_module_version": "1.5.0",
            "_model_name": "DescriptionStyleModel",
            "_view_count": null,
            "_view_module": "@jupyter-widgets/base",
            "_view_module_version": "1.2.0",
            "_view_name": "StyleView",
            "description_width": ""
          }
        }
      }
    }
  },
  "cells": [
    {
      "cell_type": "markdown",
      "metadata": {
        "id": "view-in-github",
        "colab_type": "text"
      },
      "source": [
        "<a href=\"https://colab.research.google.com/github/navjot12/improving_empathetic_nlg/blob/main/Persona_Embeddings.ipynb\" target=\"_parent\"><img src=\"https://colab.research.google.com/assets/colab-badge.svg\" alt=\"Open In Colab\"/></a>"
      ]
    },
    {
      "cell_type": "code",
      "execution_count": 1,
      "metadata": {
        "colab": {
          "base_uri": "https://localhost:8080/"
        },
        "id": "RfWbO0NRGaUC",
        "outputId": "2fd37b55-ee9f-4538-d2d5-64eed51e2ac7"
      },
      "outputs": [
        {
          "output_type": "stream",
          "name": "stdout",
          "text": [
            "Updated property [core/project].\n"
          ]
        }
      ],
      "source": [
        "from google.colab import auth\n",
        "auth.authenticate_user()\n",
        "\n",
        "# https://cloud.google.com/resource-manager/docs/creating-managing-projects\n",
        "project_id = 'improving-empathetic-nlg'\n",
        "!gcloud config set project {project_id}"
      ]
    },
    {
      "cell_type": "code",
      "source": [
        "!pip install datasets\n",
        "!pip install transformers\n",
        "!pip install sentencepiece"
      ],
      "metadata": {
        "colab": {
          "base_uri": "https://localhost:8080/"
        },
        "id": "ZdVRSZCHZT3H",
        "outputId": "5a58e403-afd5-41cd-e239-7a0b336c9d28"
      },
      "execution_count": 2,
      "outputs": [
        {
          "output_type": "stream",
          "name": "stdout",
          "text": [
            "Looking in indexes: https://pypi.org/simple, https://us-python.pkg.dev/colab-wheels/public/simple/\n",
            "Requirement already satisfied: datasets in /usr/local/lib/python3.7/dist-packages (2.6.1)\n",
            "Requirement already satisfied: xxhash in /usr/local/lib/python3.7/dist-packages (from datasets) (3.1.0)\n",
            "Requirement already satisfied: pyarrow>=6.0.0 in /usr/local/lib/python3.7/dist-packages (from datasets) (6.0.1)\n",
            "Requirement already satisfied: multiprocess in /usr/local/lib/python3.7/dist-packages (from datasets) (0.70.13)\n",
            "Requirement already satisfied: aiohttp in /usr/local/lib/python3.7/dist-packages (from datasets) (3.8.3)\n",
            "Requirement already satisfied: numpy>=1.17 in /usr/local/lib/python3.7/dist-packages (from datasets) (1.21.6)\n",
            "Requirement already satisfied: fsspec[http]>=2021.11.1 in /usr/local/lib/python3.7/dist-packages (from datasets) (2022.10.0)\n",
            "Requirement already satisfied: requests>=2.19.0 in /usr/local/lib/python3.7/dist-packages (from datasets) (2.23.0)\n",
            "Requirement already satisfied: pyyaml>=5.1 in /usr/local/lib/python3.7/dist-packages (from datasets) (6.0)\n",
            "Requirement already satisfied: importlib-metadata in /usr/local/lib/python3.7/dist-packages (from datasets) (4.13.0)\n",
            "Requirement already satisfied: pandas in /usr/local/lib/python3.7/dist-packages (from datasets) (1.3.5)\n",
            "Requirement already satisfied: packaging in /usr/local/lib/python3.7/dist-packages (from datasets) (21.3)\n",
            "Requirement already satisfied: tqdm>=4.62.1 in /usr/local/lib/python3.7/dist-packages (from datasets) (4.64.1)\n",
            "Requirement already satisfied: responses<0.19 in /usr/local/lib/python3.7/dist-packages (from datasets) (0.18.0)\n",
            "Requirement already satisfied: huggingface-hub<1.0.0,>=0.2.0 in /usr/local/lib/python3.7/dist-packages (from datasets) (0.10.1)\n",
            "Requirement already satisfied: dill<0.3.6 in /usr/local/lib/python3.7/dist-packages (from datasets) (0.3.5.1)\n",
            "Requirement already satisfied: aiosignal>=1.1.2 in /usr/local/lib/python3.7/dist-packages (from aiohttp->datasets) (1.2.0)\n",
            "Requirement already satisfied: asynctest==0.13.0 in /usr/local/lib/python3.7/dist-packages (from aiohttp->datasets) (0.13.0)\n",
            "Requirement already satisfied: async-timeout<5.0,>=4.0.0a3 in /usr/local/lib/python3.7/dist-packages (from aiohttp->datasets) (4.0.2)\n",
            "Requirement already satisfied: yarl<2.0,>=1.0 in /usr/local/lib/python3.7/dist-packages (from aiohttp->datasets) (1.8.1)\n",
            "Requirement already satisfied: charset-normalizer<3.0,>=2.0 in /usr/local/lib/python3.7/dist-packages (from aiohttp->datasets) (2.1.1)\n",
            "Requirement already satisfied: multidict<7.0,>=4.5 in /usr/local/lib/python3.7/dist-packages (from aiohttp->datasets) (6.0.2)\n",
            "Requirement already satisfied: frozenlist>=1.1.1 in /usr/local/lib/python3.7/dist-packages (from aiohttp->datasets) (1.3.1)\n",
            "Requirement already satisfied: typing-extensions>=3.7.4 in /usr/local/lib/python3.7/dist-packages (from aiohttp->datasets) (4.1.1)\n",
            "Requirement already satisfied: attrs>=17.3.0 in /usr/local/lib/python3.7/dist-packages (from aiohttp->datasets) (22.1.0)\n",
            "Requirement already satisfied: filelock in /usr/local/lib/python3.7/dist-packages (from huggingface-hub<1.0.0,>=0.2.0->datasets) (3.8.0)\n",
            "Requirement already satisfied: pyparsing!=3.0.5,>=2.0.2 in /usr/local/lib/python3.7/dist-packages (from packaging->datasets) (3.0.9)\n",
            "Requirement already satisfied: chardet<4,>=3.0.2 in /usr/local/lib/python3.7/dist-packages (from requests>=2.19.0->datasets) (3.0.4)\n",
            "Requirement already satisfied: urllib3!=1.25.0,!=1.25.1,<1.26,>=1.21.1 in /usr/local/lib/python3.7/dist-packages (from requests>=2.19.0->datasets) (1.25.11)\n",
            "Requirement already satisfied: certifi>=2017.4.17 in /usr/local/lib/python3.7/dist-packages (from requests>=2.19.0->datasets) (2022.9.24)\n",
            "Requirement already satisfied: idna<3,>=2.5 in /usr/local/lib/python3.7/dist-packages (from requests>=2.19.0->datasets) (2.10)\n",
            "Requirement already satisfied: zipp>=0.5 in /usr/local/lib/python3.7/dist-packages (from importlib-metadata->datasets) (3.9.0)\n",
            "Requirement already satisfied: pytz>=2017.3 in /usr/local/lib/python3.7/dist-packages (from pandas->datasets) (2022.5)\n",
            "Requirement already satisfied: python-dateutil>=2.7.3 in /usr/local/lib/python3.7/dist-packages (from pandas->datasets) (2.8.2)\n",
            "Requirement already satisfied: six>=1.5 in /usr/local/lib/python3.7/dist-packages (from python-dateutil>=2.7.3->pandas->datasets) (1.15.0)\n",
            "Looking in indexes: https://pypi.org/simple, https://us-python.pkg.dev/colab-wheels/public/simple/\n",
            "Requirement already satisfied: transformers in /usr/local/lib/python3.7/dist-packages (4.23.1)\n",
            "Requirement already satisfied: huggingface-hub<1.0,>=0.10.0 in /usr/local/lib/python3.7/dist-packages (from transformers) (0.10.1)\n",
            "Requirement already satisfied: pyyaml>=5.1 in /usr/local/lib/python3.7/dist-packages (from transformers) (6.0)\n",
            "Requirement already satisfied: tokenizers!=0.11.3,<0.14,>=0.11.1 in /usr/local/lib/python3.7/dist-packages (from transformers) (0.13.1)\n",
            "Requirement already satisfied: importlib-metadata in /usr/local/lib/python3.7/dist-packages (from transformers) (4.13.0)\n",
            "Requirement already satisfied: tqdm>=4.27 in /usr/local/lib/python3.7/dist-packages (from transformers) (4.64.1)\n",
            "Requirement already satisfied: requests in /usr/local/lib/python3.7/dist-packages (from transformers) (2.23.0)\n",
            "Requirement already satisfied: filelock in /usr/local/lib/python3.7/dist-packages (from transformers) (3.8.0)\n",
            "Requirement already satisfied: regex!=2019.12.17 in /usr/local/lib/python3.7/dist-packages (from transformers) (2022.6.2)\n",
            "Requirement already satisfied: packaging>=20.0 in /usr/local/lib/python3.7/dist-packages (from transformers) (21.3)\n",
            "Requirement already satisfied: numpy>=1.17 in /usr/local/lib/python3.7/dist-packages (from transformers) (1.21.6)\n",
            "Requirement already satisfied: typing-extensions>=3.7.4.3 in /usr/local/lib/python3.7/dist-packages (from huggingface-hub<1.0,>=0.10.0->transformers) (4.1.1)\n",
            "Requirement already satisfied: pyparsing!=3.0.5,>=2.0.2 in /usr/local/lib/python3.7/dist-packages (from packaging>=20.0->transformers) (3.0.9)\n",
            "Requirement already satisfied: zipp>=0.5 in /usr/local/lib/python3.7/dist-packages (from importlib-metadata->transformers) (3.9.0)\n",
            "Requirement already satisfied: certifi>=2017.4.17 in /usr/local/lib/python3.7/dist-packages (from requests->transformers) (2022.9.24)\n",
            "Requirement already satisfied: chardet<4,>=3.0.2 in /usr/local/lib/python3.7/dist-packages (from requests->transformers) (3.0.4)\n",
            "Requirement already satisfied: urllib3!=1.25.0,!=1.25.1,<1.26,>=1.21.1 in /usr/local/lib/python3.7/dist-packages (from requests->transformers) (1.25.11)\n",
            "Requirement already satisfied: idna<3,>=2.5 in /usr/local/lib/python3.7/dist-packages (from requests->transformers) (2.10)\n",
            "Looking in indexes: https://pypi.org/simple, https://us-python.pkg.dev/colab-wheels/public/simple/\n",
            "Requirement already satisfied: sentencepiece in /usr/local/lib/python3.7/dist-packages (0.1.97)\n"
          ]
        }
      ]
    },
    {
      "cell_type": "code",
      "source": [
        "from datetime import datetime\n",
        "from datasets import load_dataset\n",
        "import torch\n",
        "from transformers import RobertaTokenizer, RobertaModel, LongformerTokenizer,  LongformerModel"
      ],
      "metadata": {
        "id": "RLiUGeXqNrZl"
      },
      "execution_count": 3,
      "outputs": []
    },
    {
      "cell_type": "code",
      "source": [
        "def get_persona_sentences(split):\n",
        "  # Load data from HuggingFace\n",
        "  dataset = load_dataset(\"pec\", \"all\")[split]\n",
        "  print(dataset)\n",
        "\n",
        "  # Dictionary from speaker name to persona sentences\n",
        "  speaker_persona_sentences = {}\n",
        "  for example in dataset:\n",
        "    response_speaker = example['response_speaker']\n",
        "    \n",
        "    if response_speaker not in speaker_persona_sentences.keys():\n",
        "      speaker_persona_sentences[response_speaker] = set()\n",
        "    \n",
        "    # Collect persona sentences and add to set.\n",
        "    for persona_sentence in example['personas']:\n",
        "      if persona_sentence not in speaker_persona_sentences[response_speaker]:\n",
        "        speaker_persona_sentences[response_speaker].add(persona_sentence)\n",
        "\n",
        "  return speaker_persona_sentences\n",
        "\n",
        "\n",
        "def get_tokenizer_and_model(model_name):\n",
        "  if model_name == 'Roberta':\n",
        "    tokenizer = RobertaTokenizer.from_pretrained(\"roberta-base\")\n",
        "    model = RobertaModel.from_pretrained(\"roberta-base\")\n",
        "    return tokenizer, model\n",
        "\n",
        "  elif model_name == 'Longformer':\n",
        "    tokenizer = LongformerTokenizer.from_pretrained(\"allenai/longformer-base-4096\")\n",
        "    model = LongformerModel.from_pretrained(\"allenai/longformer-base-4096\")\n",
        "    return tokenizer, model\n",
        "\n",
        "  else:\n",
        "    raise Exception('model_name argument not in [Roberta, Longformer]')\n",
        "\n",
        "\n",
        "def model_forward_pass(model_name, model, tokenizer, cat_persona_sentences):\n",
        "  with torch.no_grad():\n",
        "\n",
        "    if model_name == 'Roberta':\n",
        "      inputs = tokenizer(cat_persona_sentences, truncation=True, return_tensors=\"pt\")\n",
        "      outputs = model(**inputs, output_hidden_states=True)\n",
        "      return outputs\n",
        "    \n",
        "    elif model_name == 'Longformer':\n",
        "      # batch of size 1\n",
        "      input_ids = torch.tensor(tokenizer.encode(cat_persona_sentences)).unsqueeze(0)\n",
        "\n",
        "      # global attention mask to attend locally within a persona sentence\n",
        "      # and globally among special tokens.\n",
        "      global_attention_mask = torch.zeros(input_ids.shape, dtype=torch.long)\n",
        "      for ix in range(len(input_ids[0])):\n",
        "        if input_ids[0][ix] in [0, 2]:\n",
        "          global_attention_mask[0][ix] = 1.0\n",
        "\n",
        "      outputs = model(input_ids,\n",
        "                      global_attention_mask=global_attention_mask,\n",
        "                      output_hidden_states=True)\n",
        "      \n",
        "      return outputs\n",
        "\n",
        "    else:\n",
        "      raise Exception('model_name argument not in [Roberta, Longformer]')\n",
        "    \n",
        "\n",
        "def get_persona_embeddings(split, model_name):\n",
        "  # Load persona sentences\n",
        "  speaker_persona_sentences = get_persona_sentences(split)\n",
        "  print('>>> get_persona_sentences: persona sentences for %s speakers loaded.' % len(speaker_persona_sentences.keys()))\n",
        "    \n",
        "  # Load BERT based model with pretrained weights to create persona embeddings\n",
        "  tokenizer, model = get_tokenizer_and_model(model_name)\n",
        "  print('>>> %s tokenizer and model loaded.' % model_name)\n",
        "\n",
        "  # Put model in eval mode\n",
        "  model.eval()\n",
        "\n",
        "  # Dictionary from speaker name to persona embedding\n",
        "  speaker_personas = {}\n",
        "  \n",
        "  # Print periodic logs\n",
        "  count, num_speakers = 0, len(speaker_persona_sentences)\n",
        "  deciles = [int(ix * num_speakers / 100) for ix in range(5, 100, 10)]\n",
        "  print('>>> Creating %s persona embeddings for %s data at %s' % \\\n",
        "        (num_speakers, split, datetime.now()))\n",
        "\n",
        "  for speaker in speaker_persona_sentences.keys():\n",
        "    count += 1\n",
        "    if count in deciles:\n",
        "      print('- Creating %s th persona embedding at %s' % (count, datetime.now()))\n",
        "\n",
        "    # Concatenate persona sentences and add special tokens in between\n",
        "    cat_persona_sentences = ' </s> '.join(['<s> ' + sentence + ' </s>' \\\n",
        "                                          for sentence in speaker_persona_sentences[speaker]])\n",
        "    \n",
        "    # Get outputs object with all hidden states\n",
        "    outputs = model_forward_pass(model_name, model, tokenizer, cat_persona_sentences)\n",
        "\n",
        "    # Get last four layers.\n",
        "    last_four_layers = [outputs.hidden_states[i] for i in (-1, -2, -3, -4)]\n",
        "\n",
        "    # Cast layers to a tuple and concatenate over the last dimension\n",
        "    cat_hidden_states = torch.cat(tuple(last_four_layers), dim=-1)\n",
        "\n",
        "    # Take the mean of the concatenated vector over the token dimension\n",
        "    speaker_personas[speaker] = torch.mean(cat_hidden_states, dim=1).squeeze()\n",
        "\n",
        "  return speaker_personas\n",
        "\n",
        "def serialize_persona_embeddings(dir_path, split='train', model_name='Longformer'):\n",
        "  # Create persona embeddings from data\n",
        "  speaker_persona = get_persona_embeddings(split, model_name)\n",
        "  \n",
        "  if not dir_path.endswith('/'):\n",
        "    dir_path += '/'\n",
        "\n",
        "  file_path = dir_path + split + '-' + model_name + '-persona-embeddings.pt'\n",
        "  torch.save(speaker_persona, file_path)\n",
        "  \n",
        "  print('>>> File serialized at', file_path)\n",
        "\n",
        "  return file_path"
      ],
      "metadata": {
        "id": "SZmuW9TUWKkS"
      },
      "execution_count": 4,
      "outputs": []
    },
    {
      "cell_type": "code",
      "source": [
        "file_path = serialize_persona_embeddings('/tmp/', 'train', 'Longformer')\n",
        "!gsutil cp {file_path} gs://{moel-data}/"
      ],
      "metadata": {
        "colab": {
          "base_uri": "https://localhost:8080/",
          "height": 265,
          "referenced_widgets": [
            "d10d8fb69f0e4700a36b6380f6eeac6c",
            "678f9a92388c49ba972a5d5f63a2eedf",
            "5ead5cd44ae14003a08330749ae23dd0",
            "110bc62a540d41d891480d2579206c41",
            "942810b8fc5447ada6b206a93b2ba546",
            "75d911a8d894440d9d941d472e8f3a74",
            "bca17624e8f14e11896495a88bbe388c",
            "58e32fa1e07d4056a811103c597234b4",
            "6ca90d724dd94e13a5b5df0e4efacf07",
            "309a6557e55545d38a7bdb295c50ed2e",
            "0b86193a62aa4b408938b6a1774b7d15"
          ]
        },
        "id": "Lve5J_clgr31",
        "outputId": "07fb8b8e-9cd7-483a-eefc-32cad0e0edd7"
      },
      "execution_count": null,
      "outputs": [
        {
          "output_type": "stream",
          "name": "stderr",
          "text": [
            "WARNING:datasets.builder:Found cached dataset pec (/root/.cache/huggingface/datasets/pec/all/1.0.0/a0e28a0d00fd95a7c1673fba25f821c258963c8b85d1c46151888457f2f37efc)\n"
          ]
        },
        {
          "output_type": "display_data",
          "data": {
            "text/plain": [
              "  0%|          | 0/3 [00:00<?, ?it/s]"
            ],
            "application/vnd.jupyter.widget-view+json": {
              "version_major": 2,
              "version_minor": 0,
              "model_id": "d10d8fb69f0e4700a36b6380f6eeac6c"
            }
          },
          "metadata": {}
        },
        {
          "output_type": "stream",
          "name": "stdout",
          "text": [
            "Dataset({\n",
            "    features: ['personas', 'context', 'context_speakers', 'response', 'response_speaker'],\n",
            "    num_rows: 281163\n",
            "})\n",
            ">>> get_persona_sentences: persona sentences for 148493 speakers loaded.\n"
          ]
        },
        {
          "output_type": "stream",
          "name": "stderr",
          "text": [
            "Some weights of the model checkpoint at allenai/longformer-base-4096 were not used when initializing LongformerModel: ['lm_head.layer_norm.weight', 'lm_head.layer_norm.bias', 'lm_head.dense.weight', 'lm_head.decoder.weight', 'lm_head.bias', 'lm_head.dense.bias']\n",
            "- This IS expected if you are initializing LongformerModel from the checkpoint of a model trained on another task or with another architecture (e.g. initializing a BertForSequenceClassification model from a BertForPreTraining model).\n",
            "- This IS NOT expected if you are initializing LongformerModel from the checkpoint of a model that you expect to be exactly identical (initializing a BertForSequenceClassification model from a BertForSequenceClassification model).\n"
          ]
        },
        {
          "output_type": "stream",
          "name": "stdout",
          "text": [
            ">>> Longformer tokenizer and model loaded.\n",
            ">>> Creating 148493 persona embeddings for train data at 2022-10-25 19:33:27.344847\n"
          ]
        }
      ]
    },
    {
      "cell_type": "code",
      "source": [
        "file_path = serialize_persona_embeddings('/tmp/', 'validation', 'Longformer')\n",
        "!gsutil cp {file_path} gs://{moel-data}/"
      ],
      "metadata": {
        "id": "MiagTwGibsct"
      },
      "execution_count": null,
      "outputs": []
    },
    {
      "cell_type": "code",
      "source": [
        "file_path = serialize_persona_embeddings('/tmp/', 'test', 'Longformer')\n",
        "!gsutil cp {file_path} gs://{moel-data}/"
      ],
      "metadata": {
        "id": "goDyGcX9n01v"
      },
      "execution_count": null,
      "outputs": []
    },
    {
      "cell_type": "code",
      "source": [],
      "metadata": {
        "id": "l79yxEhrn2AC"
      },
      "execution_count": null,
      "outputs": []
    }
  ]
}