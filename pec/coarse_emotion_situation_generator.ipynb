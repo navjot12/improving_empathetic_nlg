{
 "cells": [
  {
   "cell_type": "code",
   "execution_count": 1,
   "id": "b7b4b298",
   "metadata": {},
   "outputs": [],
   "source": [
    "from datasets import load_dataset\n",
    "import numpy as np"
   ]
  },
  {
   "cell_type": "code",
   "execution_count": 2,
   "id": "b37539dc",
   "metadata": {},
   "outputs": [
    {
     "name": "stderr",
     "output_type": "stream",
     "text": [
      "Reusing dataset pec (/Users/navjot/.cache/huggingface/datasets/pec/happy/1.0.0/a0e28a0d00fd95a7c1673fba25f821c258963c8b85d1c46151888457f2f37efc)\n"
     ]
    },
    {
     "data": {
      "application/vnd.jupyter.widget-view+json": {
       "model_id": "ed65471b6c1041ed8702c0a634653cf0",
       "version_major": 2,
       "version_minor": 0
      },
      "text/plain": [
       "  0%|          | 0/3 [00:00<?, ?it/s]"
      ]
     },
     "metadata": {},
     "output_type": "display_data"
    },
    {
     "name": "stderr",
     "output_type": "stream",
     "text": [
      "Reusing dataset pec (/Users/navjot/.cache/huggingface/datasets/pec/offmychest/1.0.0/a0e28a0d00fd95a7c1673fba25f821c258963c8b85d1c46151888457f2f37efc)\n"
     ]
    },
    {
     "data": {
      "application/vnd.jupyter.widget-view+json": {
       "model_id": "bd4bdfe969e24239bbf18358ff063cda",
       "version_major": 2,
       "version_minor": 0
      },
      "text/plain": [
       "  0%|          | 0/3 [00:00<?, ?it/s]"
      ]
     },
     "metadata": {},
     "output_type": "display_data"
    },
    {
     "name": "stderr",
     "output_type": "stream",
     "text": [
      "Reusing dataset pec (/Users/navjot/.cache/huggingface/datasets/pec/all/1.0.0/a0e28a0d00fd95a7c1673fba25f821c258963c8b85d1c46151888457f2f37efc)\n"
     ]
    },
    {
     "data": {
      "application/vnd.jupyter.widget-view+json": {
       "model_id": "efbc55c6c8d244afa819630b2e49c85a",
       "version_major": 2,
       "version_minor": 0
      },
      "text/plain": [
       "  0%|          | 0/3 [00:00<?, ?it/s]"
      ]
     },
     "metadata": {},
     "output_type": "display_data"
    }
   ],
   "source": [
    "data = {}\n",
    "data['happy'] = load_dataset(\"pec\", \"happy\")\n",
    "data['offmychest'] = load_dataset(\"pec\", \"offmychest\")\n",
    "data['all'] = load_dataset(\"pec\", \"all\")"
   ]
  },
  {
   "cell_type": "code",
   "execution_count": 3,
   "id": "ef599394",
   "metadata": {
    "scrolled": true
   },
   "outputs": [],
   "source": [
    "def filter_data(data, sreddit, split):\n",
    "    data_slice = data[sreddit][split]\n",
    "    \n",
    "    print('Initial data[%s][%s]:' % (sreddit, split), data_slice)\n",
    "\n",
    "    data_slice = data_slice.filter(lambda example: len(example['context_speakers']) == 1)\n",
    "    data_slice = data_slice.filter(lambda example: len(' '.join(example['context']).split()) > 20)\n",
    "    data_slice = data_slice.filter(lambda example: len(example['personas']) > 25)\n",
    "    data_slice = data_slice.filter(lambda example: len(example['response'].split()) > 10)\n",
    "    \n",
    "    print('Filtered data[%s][%s]:' % (sreddit, split), data_slice)\n",
    "    \n",
    "    return data_slice"
   ]
  },
  {
   "cell_type": "code",
   "execution_count": 4,
   "id": "23938162",
   "metadata": {},
   "outputs": [
    {
     "name": "stderr",
     "output_type": "stream",
     "text": [
      "Parameter 'function'=<function filter_data.<locals>.<lambda> at 0x7faf18c45ee0> of the transform datasets.arrow_dataset.Dataset.filter@2.0.1 couldn't be hashed properly, a random hash was used instead. Make sure your transforms and parameters are serializable with pickle or dill for the dataset fingerprinting and caching to work. If you reuse this transform, the caching mechanism will consider it to be different from the previous calls and recompute everything. This warning is only showed once. Subsequent hashing failures won't be showed.\n"
     ]
    },
    {
     "name": "stdout",
     "output_type": "stream",
     "text": [
      "Initial data[all][train]: Dataset({\n",
      "    features: ['personas', 'context', 'context_speakers', 'response', 'response_speaker'],\n",
      "    num_rows: 281163\n",
      "})\n"
     ]
    },
    {
     "data": {
      "application/vnd.jupyter.widget-view+json": {
       "model_id": "640843aeb4724e9aab2d02bf9f0fb06a",
       "version_major": 2,
       "version_minor": 0
      },
      "text/plain": [
       "  0%|          | 0/282 [00:00<?, ?ba/s]"
      ]
     },
     "metadata": {},
     "output_type": "display_data"
    },
    {
     "data": {
      "application/vnd.jupyter.widget-view+json": {
       "model_id": "06297af8985f42cc9d9f4378fc1bc5de",
       "version_major": 2,
       "version_minor": 0
      },
      "text/plain": [
       "  0%|          | 0/230 [00:00<?, ?ba/s]"
      ]
     },
     "metadata": {},
     "output_type": "display_data"
    },
    {
     "data": {
      "application/vnd.jupyter.widget-view+json": {
       "model_id": "313bc689df9b409db70140ecc435c0f8",
       "version_major": 2,
       "version_minor": 0
      },
      "text/plain": [
       "  0%|          | 0/172 [00:00<?, ?ba/s]"
      ]
     },
     "metadata": {},
     "output_type": "display_data"
    },
    {
     "data": {
      "application/vnd.jupyter.widget-view+json": {
       "model_id": "87375f894e094c0a8f32aa30fbd68168",
       "version_major": 2,
       "version_minor": 0
      },
      "text/plain": [
       "  0%|          | 0/138 [00:00<?, ?ba/s]"
      ]
     },
     "metadata": {},
     "output_type": "display_data"
    },
    {
     "name": "stdout",
     "output_type": "stream",
     "text": [
      "Filtered data[all][train]: Dataset({\n",
      "    features: ['personas', 'context', 'context_speakers', 'response', 'response_speaker'],\n",
      "    num_rows: 83610\n",
      "})\n",
      "Initial data[all][validation]: Dataset({\n",
      "    features: ['personas', 'context', 'context_speakers', 'response', 'response_speaker'],\n",
      "    num_rows: 35833\n",
      "})\n"
     ]
    },
    {
     "data": {
      "application/vnd.jupyter.widget-view+json": {
       "model_id": "3993c681080240a4bb15ce8e40fb12d8",
       "version_major": 2,
       "version_minor": 0
      },
      "text/plain": [
       "  0%|          | 0/36 [00:00<?, ?ba/s]"
      ]
     },
     "metadata": {},
     "output_type": "display_data"
    },
    {
     "data": {
      "application/vnd.jupyter.widget-view+json": {
       "model_id": "fe37469f93774a6a88411fe4f7c599d3",
       "version_major": 2,
       "version_minor": 0
      },
      "text/plain": [
       "  0%|          | 0/30 [00:00<?, ?ba/s]"
      ]
     },
     "metadata": {},
     "output_type": "display_data"
    },
    {
     "data": {
      "application/vnd.jupyter.widget-view+json": {
       "model_id": "761c98d6a5d842f8ad6602da867e0edb",
       "version_major": 2,
       "version_minor": 0
      },
      "text/plain": [
       "  0%|          | 0/23 [00:00<?, ?ba/s]"
      ]
     },
     "metadata": {},
     "output_type": "display_data"
    },
    {
     "data": {
      "application/vnd.jupyter.widget-view+json": {
       "model_id": "a5fce457e3c140f4954ce56f4261e620",
       "version_major": 2,
       "version_minor": 0
      },
      "text/plain": [
       "  0%|          | 0/19 [00:00<?, ?ba/s]"
      ]
     },
     "metadata": {},
     "output_type": "display_data"
    },
    {
     "name": "stdout",
     "output_type": "stream",
     "text": [
      "Filtered data[all][validation]: Dataset({\n",
      "    features: ['personas', 'context', 'context_speakers', 'response', 'response_speaker'],\n",
      "    num_rows: 11210\n",
      "})\n",
      "Initial data[all][test]: Dataset({\n",
      "    features: ['personas', 'context', 'context_speakers', 'response', 'response_speaker'],\n",
      "    num_rows: 38054\n",
      "})\n"
     ]
    },
    {
     "data": {
      "application/vnd.jupyter.widget-view+json": {
       "model_id": "eb286dfcd8fa4c739e6dfb32ce394fe1",
       "version_major": 2,
       "version_minor": 0
      },
      "text/plain": [
       "  0%|          | 0/39 [00:00<?, ?ba/s]"
      ]
     },
     "metadata": {},
     "output_type": "display_data"
    },
    {
     "data": {
      "application/vnd.jupyter.widget-view+json": {
       "model_id": "7f51104bf0ed4e07849f84ca29a636a4",
       "version_major": 2,
       "version_minor": 0
      },
      "text/plain": [
       "  0%|          | 0/32 [00:00<?, ?ba/s]"
      ]
     },
     "metadata": {},
     "output_type": "display_data"
    },
    {
     "data": {
      "application/vnd.jupyter.widget-view+json": {
       "model_id": "4596dc46f20d4ab98a7d35e7d6f02a8e",
       "version_major": 2,
       "version_minor": 0
      },
      "text/plain": [
       "  0%|          | 0/24 [00:00<?, ?ba/s]"
      ]
     },
     "metadata": {},
     "output_type": "display_data"
    },
    {
     "data": {
      "application/vnd.jupyter.widget-view+json": {
       "model_id": "d965e504ea514656890691c11d4f4713",
       "version_major": 2,
       "version_minor": 0
      },
      "text/plain": [
       "  0%|          | 0/19 [00:00<?, ?ba/s]"
      ]
     },
     "metadata": {},
     "output_type": "display_data"
    },
    {
     "name": "stdout",
     "output_type": "stream",
     "text": [
      "Filtered data[all][test]: Dataset({\n",
      "    features: ['personas', 'context', 'context_speakers', 'response', 'response_speaker'],\n",
      "    num_rows: 11324\n",
      "})\n"
     ]
    }
   ],
   "source": [
    "def situation_array_creator(data, sreddit, split):\n",
    "    np.save('pec_situation_texts.' + split + '.npy',\n",
    "            ['Unavailable'] * len(filter_data(data, sreddit, split)))\n",
    "\n",
    "for split in ['train', 'validation', 'test']:\n",
    "    situation_array_creator(data, 'all', split)"
   ]
  },
  {
   "cell_type": "code",
   "execution_count": 5,
   "id": "b0c97cc1",
   "metadata": {},
   "outputs": [
    {
     "name": "stdout",
     "output_type": "stream",
     "text": [
      "Initial data[happy][train]: Dataset({\n",
      "    features: ['personas', 'context', 'context_speakers', 'response', 'response_speaker'],\n",
      "    num_rows: 157195\n",
      "})\n"
     ]
    },
    {
     "data": {
      "application/vnd.jupyter.widget-view+json": {
       "model_id": "55bb47e818f44c73be017944b733ae2d",
       "version_major": 2,
       "version_minor": 0
      },
      "text/plain": [
       "  0%|          | 0/158 [00:00<?, ?ba/s]"
      ]
     },
     "metadata": {},
     "output_type": "display_data"
    },
    {
     "data": {
      "application/vnd.jupyter.widget-view+json": {
       "model_id": "33e2ef9f3fe34bbe87a41afde321dcb4",
       "version_major": 2,
       "version_minor": 0
      },
      "text/plain": [
       "  0%|          | 0/130 [00:00<?, ?ba/s]"
      ]
     },
     "metadata": {},
     "output_type": "display_data"
    },
    {
     "data": {
      "application/vnd.jupyter.widget-view+json": {
       "model_id": "8d2d8caed3554539802a764c0969dddf",
       "version_major": 2,
       "version_minor": 0
      },
      "text/plain": [
       "  0%|          | 0/89 [00:00<?, ?ba/s]"
      ]
     },
     "metadata": {},
     "output_type": "display_data"
    },
    {
     "data": {
      "application/vnd.jupyter.widget-view+json": {
       "model_id": "e0f4555c5c904e2ea051210a24eca69f",
       "version_major": 2,
       "version_minor": 0
      },
      "text/plain": [
       "  0%|          | 0/72 [00:00<?, ?ba/s]"
      ]
     },
     "metadata": {},
     "output_type": "display_data"
    },
    {
     "name": "stdout",
     "output_type": "stream",
     "text": [
      "Filtered data[happy][train]: Dataset({\n",
      "    features: ['personas', 'context', 'context_speakers', 'response', 'response_speaker'],\n",
      "    num_rows: 39879\n",
      "})\n",
      "Initial data[offmychest][train]: Dataset({\n",
      "    features: ['personas', 'context', 'context_speakers', 'response', 'response_speaker'],\n",
      "    num_rows: 123968\n",
      "})\n"
     ]
    },
    {
     "data": {
      "application/vnd.jupyter.widget-view+json": {
       "model_id": "d45a38a4c3334522bc4944c0abf14643",
       "version_major": 2,
       "version_minor": 0
      },
      "text/plain": [
       "  0%|          | 0/124 [00:00<?, ?ba/s]"
      ]
     },
     "metadata": {},
     "output_type": "display_data"
    },
    {
     "data": {
      "application/vnd.jupyter.widget-view+json": {
       "model_id": "8fa1d051c9024f63aa45f87b58332e21",
       "version_major": 2,
       "version_minor": 0
      },
      "text/plain": [
       "  0%|          | 0/101 [00:00<?, ?ba/s]"
      ]
     },
     "metadata": {},
     "output_type": "display_data"
    },
    {
     "data": {
      "application/vnd.jupyter.widget-view+json": {
       "model_id": "2050929555ba4b1c9c8a4399c180ac39",
       "version_major": 2,
       "version_minor": 0
      },
      "text/plain": [
       "  0%|          | 0/84 [00:00<?, ?ba/s]"
      ]
     },
     "metadata": {},
     "output_type": "display_data"
    },
    {
     "data": {
      "application/vnd.jupyter.widget-view+json": {
       "model_id": "2d5d53a9677143fab05305c62edd7d98",
       "version_major": 2,
       "version_minor": 0
      },
      "text/plain": [
       "  0%|          | 0/67 [00:00<?, ?ba/s]"
      ]
     },
     "metadata": {},
     "output_type": "display_data"
    },
    {
     "name": "stdout",
     "output_type": "stream",
     "text": [
      "Filtered data[offmychest][train]: Dataset({\n",
      "    features: ['personas', 'context', 'context_speakers', 'response', 'response_speaker'],\n",
      "    num_rows: 43667\n",
      "})\n",
      "Initial data[happy][validation]: Dataset({\n",
      "    features: ['personas', 'context', 'context_speakers', 'response', 'response_speaker'],\n",
      "    num_rows: 19829\n",
      "})\n"
     ]
    },
    {
     "data": {
      "application/vnd.jupyter.widget-view+json": {
       "model_id": "4a845b5d94854cf8a5b9aa8c56088e49",
       "version_major": 2,
       "version_minor": 0
      },
      "text/plain": [
       "  0%|          | 0/20 [00:00<?, ?ba/s]"
      ]
     },
     "metadata": {},
     "output_type": "display_data"
    },
    {
     "data": {
      "application/vnd.jupyter.widget-view+json": {
       "model_id": "eb590ba5f5b1430886d4dcdcd232aa61",
       "version_major": 2,
       "version_minor": 0
      },
      "text/plain": [
       "  0%|          | 0/17 [00:00<?, ?ba/s]"
      ]
     },
     "metadata": {},
     "output_type": "display_data"
    },
    {
     "data": {
      "application/vnd.jupyter.widget-view+json": {
       "model_id": "0a1eaf24cadb4859985e1dbabae63ba2",
       "version_major": 2,
       "version_minor": 0
      },
      "text/plain": [
       "  0%|          | 0/12 [00:00<?, ?ba/s]"
      ]
     },
     "metadata": {},
     "output_type": "display_data"
    },
    {
     "data": {
      "application/vnd.jupyter.widget-view+json": {
       "model_id": "2cfd787c490444818770273e4e6b92b1",
       "version_major": 2,
       "version_minor": 0
      },
      "text/plain": [
       "  0%|          | 0/10 [00:00<?, ?ba/s]"
      ]
     },
     "metadata": {},
     "output_type": "display_data"
    },
    {
     "name": "stdout",
     "output_type": "stream",
     "text": [
      "Filtered data[happy][validation]: Dataset({\n",
      "    features: ['personas', 'context', 'context_speakers', 'response', 'response_speaker'],\n",
      "    num_rows: 5416\n",
      "})\n",
      "Initial data[offmychest][validation]: Dataset({\n",
      "    features: ['personas', 'context', 'context_speakers', 'response', 'response_speaker'],\n",
      "    num_rows: 16004\n",
      "})\n"
     ]
    },
    {
     "data": {
      "application/vnd.jupyter.widget-view+json": {
       "model_id": "dff4f09555944b92a0ae56c8e3329d23",
       "version_major": 2,
       "version_minor": 0
      },
      "text/plain": [
       "  0%|          | 0/17 [00:00<?, ?ba/s]"
      ]
     },
     "metadata": {},
     "output_type": "display_data"
    },
    {
     "data": {
      "application/vnd.jupyter.widget-view+json": {
       "model_id": "3b35e2fee7b74117b3feee9ea912115e",
       "version_major": 2,
       "version_minor": 0
      },
      "text/plain": [
       "  0%|          | 0/13 [00:00<?, ?ba/s]"
      ]
     },
     "metadata": {},
     "output_type": "display_data"
    },
    {
     "data": {
      "application/vnd.jupyter.widget-view+json": {
       "model_id": "7452ee056f6346d18b1ade0569d899c2",
       "version_major": 2,
       "version_minor": 0
      },
      "text/plain": [
       "  0%|          | 0/12 [00:00<?, ?ba/s]"
      ]
     },
     "metadata": {},
     "output_type": "display_data"
    },
    {
     "data": {
      "application/vnd.jupyter.widget-view+json": {
       "model_id": "7f4f48c031b8440b8b593659b6411b97",
       "version_major": 2,
       "version_minor": 0
      },
      "text/plain": [
       "  0%|          | 0/9 [00:00<?, ?ba/s]"
      ]
     },
     "metadata": {},
     "output_type": "display_data"
    },
    {
     "name": "stdout",
     "output_type": "stream",
     "text": [
      "Filtered data[offmychest][validation]: Dataset({\n",
      "    features: ['personas', 'context', 'context_speakers', 'response', 'response_speaker'],\n",
      "    num_rows: 5783\n",
      "})\n",
      "Initial data[happy][test]: Dataset({\n",
      "    features: ['personas', 'context', 'context_speakers', 'response', 'response_speaker'],\n",
      "    num_rows: 22730\n",
      "})\n"
     ]
    },
    {
     "data": {
      "application/vnd.jupyter.widget-view+json": {
       "model_id": "68599115621f42d78819bc5f54874de4",
       "version_major": 2,
       "version_minor": 0
      },
      "text/plain": [
       "  0%|          | 0/23 [00:00<?, ?ba/s]"
      ]
     },
     "metadata": {},
     "output_type": "display_data"
    },
    {
     "data": {
      "application/vnd.jupyter.widget-view+json": {
       "model_id": "6d802fe4073d465d96ce98aa8c2205bd",
       "version_major": 2,
       "version_minor": 0
      },
      "text/plain": [
       "  0%|          | 0/19 [00:00<?, ?ba/s]"
      ]
     },
     "metadata": {},
     "output_type": "display_data"
    },
    {
     "data": {
      "application/vnd.jupyter.widget-view+json": {
       "model_id": "55c002ff6cb8413d91464df993a121a2",
       "version_major": 2,
       "version_minor": 0
      },
      "text/plain": [
       "  0%|          | 0/14 [00:00<?, ?ba/s]"
      ]
     },
     "metadata": {},
     "output_type": "display_data"
    },
    {
     "data": {
      "application/vnd.jupyter.widget-view+json": {
       "model_id": "57be900e42b54748ba601b581e0de2bf",
       "version_major": 2,
       "version_minor": 0
      },
      "text/plain": [
       "  0%|          | 0/11 [00:00<?, ?ba/s]"
      ]
     },
     "metadata": {},
     "output_type": "display_data"
    },
    {
     "name": "stdout",
     "output_type": "stream",
     "text": [
      "Filtered data[happy][test]: Dataset({\n",
      "    features: ['personas', 'context', 'context_speakers', 'response', 'response_speaker'],\n",
      "    num_rows: 5917\n",
      "})\n",
      "Initial data[offmychest][test]: Dataset({\n",
      "    features: ['personas', 'context', 'context_speakers', 'response', 'response_speaker'],\n",
      "    num_rows: 15324\n",
      "})\n"
     ]
    },
    {
     "data": {
      "application/vnd.jupyter.widget-view+json": {
       "model_id": "d01a6a7ccbb8419f86406c7e28e884eb",
       "version_major": 2,
       "version_minor": 0
      },
      "text/plain": [
       "  0%|          | 0/16 [00:00<?, ?ba/s]"
      ]
     },
     "metadata": {},
     "output_type": "display_data"
    },
    {
     "data": {
      "application/vnd.jupyter.widget-view+json": {
       "model_id": "bef92fcb53a14036a56dd186342b91d3",
       "version_major": 2,
       "version_minor": 0
      },
      "text/plain": [
       "  0%|          | 0/13 [00:00<?, ?ba/s]"
      ]
     },
     "metadata": {},
     "output_type": "display_data"
    },
    {
     "data": {
      "application/vnd.jupyter.widget-view+json": {
       "model_id": "fd72f81e889740ad89723891bfa261e2",
       "version_major": 2,
       "version_minor": 0
      },
      "text/plain": [
       "  0%|          | 0/11 [00:00<?, ?ba/s]"
      ]
     },
     "metadata": {},
     "output_type": "display_data"
    },
    {
     "data": {
      "application/vnd.jupyter.widget-view+json": {
       "model_id": "97d8f77096ad48f6a8ba30b07b5be69f",
       "version_major": 2,
       "version_minor": 0
      },
      "text/plain": [
       "  0%|          | 0/9 [00:00<?, ?ba/s]"
      ]
     },
     "metadata": {},
     "output_type": "display_data"
    },
    {
     "name": "stdout",
     "output_type": "stream",
     "text": [
      "Filtered data[offmychest][test]: Dataset({\n",
      "    features: ['personas', 'context', 'context_speakers', 'response', 'response_speaker'],\n",
      "    num_rows: 5398\n",
      "})\n"
     ]
    }
   ],
   "source": [
    "def populate_responder_response_train(data, split, sreddit):\n",
    "    responder_response = {}\n",
    "    \n",
    "    for row in filter_data(data, split, sreddit):\n",
    "        if row['response_speaker'] not in responder_response.keys():\n",
    "            responder_response[row['response_speaker']] = set()\n",
    "        \n",
    "        responder_response[row['response_speaker']].add(row['response'])\n",
    "    \n",
    "    return responder_response\n",
    "\n",
    "split_sreddit_responder_response = {}\n",
    "for split in ['train', 'validation', 'test']:\n",
    "    split_sreddit_responder_response[split] = {}\n",
    "    for sreddit in ['happy', 'offmychest']:\n",
    "        split_sreddit_responder_response[split][sreddit] = populate_responder_response_train(data, sreddit, split)"
   ]
  },
  {
   "cell_type": "code",
   "execution_count": 6,
   "id": "1ec8a67c",
   "metadata": {},
   "outputs": [
    {
     "name": "stdout",
     "output_type": "stream",
     "text": [
      "Initial data[all][train]: Dataset({\n",
      "    features: ['personas', 'context', 'context_speakers', 'response', 'response_speaker'],\n",
      "    num_rows: 281163\n",
      "})\n"
     ]
    },
    {
     "data": {
      "application/vnd.jupyter.widget-view+json": {
       "model_id": "fc6ea9fd619f4006a6847da14d657c5e",
       "version_major": 2,
       "version_minor": 0
      },
      "text/plain": [
       "  0%|          | 0/282 [00:00<?, ?ba/s]"
      ]
     },
     "metadata": {},
     "output_type": "display_data"
    },
    {
     "data": {
      "application/vnd.jupyter.widget-view+json": {
       "model_id": "f1c6f70047774b3b9a5c1f966dff0f63",
       "version_major": 2,
       "version_minor": 0
      },
      "text/plain": [
       "  0%|          | 0/230 [00:00<?, ?ba/s]"
      ]
     },
     "metadata": {},
     "output_type": "display_data"
    },
    {
     "data": {
      "application/vnd.jupyter.widget-view+json": {
       "model_id": "334cf645efd84b2cb5a206e690975d8d",
       "version_major": 2,
       "version_minor": 0
      },
      "text/plain": [
       "  0%|          | 0/172 [00:00<?, ?ba/s]"
      ]
     },
     "metadata": {},
     "output_type": "display_data"
    },
    {
     "data": {
      "application/vnd.jupyter.widget-view+json": {
       "model_id": "c09b70bda6cb44198a40f9c8c4b2a5ab",
       "version_major": 2,
       "version_minor": 0
      },
      "text/plain": [
       "  0%|          | 0/138 [00:00<?, ?ba/s]"
      ]
     },
     "metadata": {},
     "output_type": "display_data"
    },
    {
     "name": "stdout",
     "output_type": "stream",
     "text": [
      "Filtered data[all][train]: Dataset({\n",
      "    features: ['personas', 'context', 'context_speakers', 'response', 'response_speaker'],\n",
      "    num_rows: 83610\n",
      "})\n",
      "Initial data[all][validation]: Dataset({\n",
      "    features: ['personas', 'context', 'context_speakers', 'response', 'response_speaker'],\n",
      "    num_rows: 35833\n",
      "})\n"
     ]
    },
    {
     "data": {
      "application/vnd.jupyter.widget-view+json": {
       "model_id": "fe94fda95652492fa8dd89b2de4e2a10",
       "version_major": 2,
       "version_minor": 0
      },
      "text/plain": [
       "  0%|          | 0/36 [00:00<?, ?ba/s]"
      ]
     },
     "metadata": {},
     "output_type": "display_data"
    },
    {
     "data": {
      "application/vnd.jupyter.widget-view+json": {
       "model_id": "070e829650c54a369aad6ac50ee871b7",
       "version_major": 2,
       "version_minor": 0
      },
      "text/plain": [
       "  0%|          | 0/30 [00:00<?, ?ba/s]"
      ]
     },
     "metadata": {},
     "output_type": "display_data"
    },
    {
     "data": {
      "application/vnd.jupyter.widget-view+json": {
       "model_id": "c3664392b2c1401b8e59d13f30cbb5b6",
       "version_major": 2,
       "version_minor": 0
      },
      "text/plain": [
       "  0%|          | 0/23 [00:00<?, ?ba/s]"
      ]
     },
     "metadata": {},
     "output_type": "display_data"
    },
    {
     "data": {
      "application/vnd.jupyter.widget-view+json": {
       "model_id": "90379941122141378d4937ee67d5eb26",
       "version_major": 2,
       "version_minor": 0
      },
      "text/plain": [
       "  0%|          | 0/19 [00:00<?, ?ba/s]"
      ]
     },
     "metadata": {},
     "output_type": "display_data"
    },
    {
     "name": "stdout",
     "output_type": "stream",
     "text": [
      "Filtered data[all][validation]: Dataset({\n",
      "    features: ['personas', 'context', 'context_speakers', 'response', 'response_speaker'],\n",
      "    num_rows: 11210\n",
      "})\n",
      "Initial data[all][test]: Dataset({\n",
      "    features: ['personas', 'context', 'context_speakers', 'response', 'response_speaker'],\n",
      "    num_rows: 38054\n",
      "})\n"
     ]
    },
    {
     "data": {
      "application/vnd.jupyter.widget-view+json": {
       "model_id": "a535c660ed964d0b90b803a6c9219903",
       "version_major": 2,
       "version_minor": 0
      },
      "text/plain": [
       "  0%|          | 0/39 [00:00<?, ?ba/s]"
      ]
     },
     "metadata": {},
     "output_type": "display_data"
    },
    {
     "data": {
      "application/vnd.jupyter.widget-view+json": {
       "model_id": "a414ae5dcbc24fb7b504f23693925790",
       "version_major": 2,
       "version_minor": 0
      },
      "text/plain": [
       "  0%|          | 0/32 [00:00<?, ?ba/s]"
      ]
     },
     "metadata": {},
     "output_type": "display_data"
    },
    {
     "data": {
      "application/vnd.jupyter.widget-view+json": {
       "model_id": "c280979026de4746ae14295a88e3b1f1",
       "version_major": 2,
       "version_minor": 0
      },
      "text/plain": [
       "  0%|          | 0/24 [00:00<?, ?ba/s]"
      ]
     },
     "metadata": {},
     "output_type": "display_data"
    },
    {
     "data": {
      "application/vnd.jupyter.widget-view+json": {
       "model_id": "9f5fe939b19f4a2b8342e6a37a10539f",
       "version_major": 2,
       "version_minor": 0
      },
      "text/plain": [
       "  0%|          | 0/19 [00:00<?, ?ba/s]"
      ]
     },
     "metadata": {},
     "output_type": "display_data"
    },
    {
     "name": "stdout",
     "output_type": "stream",
     "text": [
      "Filtered data[all][test]: Dataset({\n",
      "    features: ['personas', 'context', 'context_speakers', 'response', 'response_speaker'],\n",
      "    num_rows: 11324\n",
      "})\n"
     ]
    }
   ],
   "source": [
    "def attribute_to_sreddit(responder, response, split):\n",
    "    for sreddit in ['happy', 'offmychest']:\n",
    "        if responder in split_sreddit_responder_response[split][sreddit].keys() and response in split_sreddit_responder_response[split][sreddit][responder]:\n",
    "            return sreddit\n",
    "    \n",
    "    return 'happy'\n",
    "\n",
    "for split in ['train', 'validation', 'test']:\n",
    "    np.save('pec_emotion_texts.' + split + '.npy',\n",
    "            [attribute_to_sreddit(row['response_speaker'], row['response'], split) for row in filter_data(data, 'all', split)])"
   ]
  },
  {
   "cell_type": "code",
   "execution_count": 7,
   "id": "d2fe466c",
   "metadata": {},
   "outputs": [
    {
     "data": {
      "text/plain": [
       "(array(['happy', 'offmychest'], dtype='<U10'), array([39943, 43667]))"
      ]
     },
     "execution_count": 7,
     "metadata": {},
     "output_type": "execute_result"
    }
   ],
   "source": [
    "emos = np.load('pec_emotion_texts.train.npy')\n",
    "np.unique(emos, return_counts = True)"
   ]
  },
  {
   "cell_type": "code",
   "execution_count": 8,
   "id": "9682a9b9",
   "metadata": {},
   "outputs": [
    {
     "data": {
      "text/plain": [
       "(83610,\n",
       " array(['Unavailable', 'Unavailable', 'Unavailable', 'Unavailable',\n",
       "        'Unavailable', 'Unavailable', 'Unavailable', 'Unavailable',\n",
       "        'Unavailable', 'Unavailable'], dtype='<U11'))"
      ]
     },
     "execution_count": 8,
     "metadata": {},
     "output_type": "execute_result"
    }
   ],
   "source": [
    "sits = np.load('pec_situation_texts.train.npy')\n",
    "len(sits), sits[0:10]"
   ]
  },
  {
   "cell_type": "code",
   "execution_count": null,
   "id": "928b5247",
   "metadata": {},
   "outputs": [],
   "source": []
  }
 ],
 "metadata": {
  "kernelspec": {
   "display_name": "Python 3 (ipykernel)",
   "language": "python",
   "name": "python3"
  },
  "language_info": {
   "codemirror_mode": {
    "name": "ipython",
    "version": 3
   },
   "file_extension": ".py",
   "mimetype": "text/x-python",
   "name": "python",
   "nbconvert_exporter": "python",
   "pygments_lexer": "ipython3",
   "version": "3.9.12"
  }
 },
 "nbformat": 4,
 "nbformat_minor": 5
}
