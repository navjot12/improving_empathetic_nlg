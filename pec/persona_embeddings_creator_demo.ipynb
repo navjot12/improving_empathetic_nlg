{
 "cells": [
  {
   "cell_type": "code",
   "execution_count": 1,
   "metadata": {
    "id": "RLiUGeXqNrZl"
   },
   "outputs": [],
   "source": [
    "from datetime import datetime\n",
    "from datasets import load_dataset\n",
    "import torch\n",
    "from transformers import RobertaTokenizer, RobertaModel, LongformerTokenizer,  LongformerModel"
   ]
  },
  {
   "cell_type": "code",
   "execution_count": 4,
   "metadata": {
    "id": "SZmuW9TUWKkS"
   },
   "outputs": [],
   "source": [
    "def get_persona_sentences(split):\n",
    "    # Load data from HuggingFace\n",
    "    dataset = load_dataset(\"pec\", \"all\")[split]\n",
    "    print(dataset)\n",
    "\n",
    "    # Dictionary from speaker name to persona sentences\n",
    "    speaker_persona_sentences = {}\n",
    "    for example in dataset:\n",
    "        response_speaker = example['response_speaker']\n",
    "    \n",
    "        if response_speaker not in speaker_persona_sentences.keys():\n",
    "            speaker_persona_sentences[response_speaker] = set()\n",
    "    \n",
    "        # Collect persona sentences and add to set.\n",
    "        for persona_sentence in example['personas']:\n",
    "            if persona_sentence not in speaker_persona_sentences[response_speaker]:\n",
    "                speaker_persona_sentences[response_speaker].add(persona_sentence)\n",
    "\n",
    "    return speaker_persona_sentences\n",
    "\n",
    "\n",
    "def get_tokenizer_and_model(model_name):\n",
    "    if model_name == 'Roberta':\n",
    "        tokenizer = RobertaTokenizer.from_pretrained(\"roberta-base\")\n",
    "        model = RobertaModel.from_pretrained(\"roberta-base\")\n",
    "        return tokenizer, model\n",
    "    \n",
    "    elif model_name == 'Longformer':\n",
    "        tokenizer = LongformerTokenizer.from_pretrained(\"allenai/longformer-base-4096\")\n",
    "        model = LongformerModel.from_pretrained(\"allenai/longformer-base-4096\")\n",
    "        return tokenizer, model\n",
    "\n",
    "    else:\n",
    "        raise Exception('model_name argument not in [Roberta, Longformer]')\n",
    "\n",
    "\n",
    "def model_forward_pass(model_name, model, tokenizer, cat_persona_sentences):\n",
    "    with torch.no_grad():\n",
    "        if model_name == 'Roberta':\n",
    "            inputs = tokenizer(cat_persona_sentences, truncation=True, return_tensors=\"pt\")\n",
    "            outputs = model(**inputs, output_hidden_states=True)\n",
    "            return outputs\n",
    "        \n",
    "        elif model_name == 'Longformer':\n",
    "            # batch of size 1\n",
    "            input_ids = torch.tensor(tokenizer.encode(cat_persona_sentences)).unsqueeze(0)\n",
    "\n",
    "            # global attention mask to attend locally within a persona sentence\n",
    "            # and globally among special tokens.\n",
    "            global_attention_mask = torch.zeros(input_ids.shape, dtype=torch.long)\n",
    "            for ix in range(len(input_ids[0])):\n",
    "                if input_ids[0][ix] in [0, 2]:\n",
    "                    global_attention_mask[0][ix] = 1.0\n",
    "\n",
    "            outputs = model(input_ids,\n",
    "                            global_attention_mask=global_attention_mask,\n",
    "                            output_hidden_states=True)\n",
    "      \n",
    "            return outputs\n",
    "\n",
    "        else:\n",
    "            raise Exception('model_name argument not in [Roberta, Longformer]')\n",
    "    \n",
    "\n",
    "def get_persona_embeddings(split, model_name):\n",
    "    # Load persona sentences\n",
    "    speaker_persona_sentences = get_persona_sentences(split)\n",
    "    print('>>> get_persona_sentences: persona sentences for %s speakers loaded.' % len(speaker_persona_sentences.keys()))\n",
    "    \n",
    "    # Load BERT based model with pretrained weights to create persona embeddings\n",
    "    tokenizer, model = get_tokenizer_and_model(model_name)\n",
    "    print('>>> %s tokenizer and model loaded.' % model_name)\n",
    "\n",
    "    # Put model in eval mode\n",
    "    model.eval()\n",
    "\n",
    "    # Dictionary from speaker name to persona embedding\n",
    "    speaker_personas = {}\n",
    "  \n",
    "    # Print periodic logs\n",
    "    count, num_speakers = 0, len(speaker_persona_sentences)\n",
    "    deciles = [int(ix * num_speakers / 100) for ix in range(5, 100, 10)]\n",
    "    print('>>> Creating %s persona embeddings for %s data at %s' % \\\n",
    "          (num_speakers, split, datetime.now()))\n",
    "\n",
    "    for speaker in speaker_persona_sentences.keys():\n",
    "        count += 1\n",
    "        if count in deciles:\n",
    "            print('- Creating %s th persona embedding at %s' % (count, datetime.now()))\n",
    "            \n",
    "        # Concatenate persona sentences and add special tokens in between\n",
    "        cat_persona_sentences = ' </s> '.join(['<s> ' + sentence + ' </s>' \\\n",
    "                                              for sentence in speaker_persona_sentences[speaker]]).strip()\n",
    "    \n",
    "        # Get outputs object with all hidden states\n",
    "        outputs = model_forward_pass(model_name, model, tokenizer, cat_persona_sentences)\n",
    "\n",
    "        # Get last four layers.\n",
    "        last_four_layers = [outputs.hidden_states[i] for i in (-1, -2, -3, -4)]\n",
    "\n",
    "        # Cast layers to a tuple and concatenate over the last dimension\n",
    "        cat_hidden_states = torch.cat(tuple(last_four_layers), dim=-1)\n",
    "\n",
    "        # Take the mean of the concatenated vector over the token dimension\n",
    "        speaker_personas[speaker] = torch.mean(cat_hidden_states, dim=1).squeeze()\n",
    "\n",
    "    return speaker_personas\n",
    "\n",
    "\n",
    "def serialize_persona_embeddings(dir_path, split='train', model_name='Longformer'):\n",
    "    # Create persona embeddings from data\n",
    "    speaker_persona = get_persona_embeddings(split, model_name)\n",
    "  \n",
    "    if not dir_path.endswith('/'):\n",
    "        dir_path += '/'\n",
    "\n",
    "    file_path = dir_path + split + '-' + model_name + '-persona-embeddings.pt'\n",
    "    torch.save(speaker_persona, file_path)\n",
    "  \n",
    "    print('>>> File serialized at', file_path)\n",
    "\n",
    "    return file_path"
   ]
  },
  {
   "cell_type": "code",
   "execution_count": 5,
   "metadata": {
    "colab": {
     "background_save": true,
     "base_uri": "https://localhost:8080/",
     "height": 265,
     "referenced_widgets": [
      "d10d8fb69f0e4700a36b6380f6eeac6c",
      "678f9a92388c49ba972a5d5f63a2eedf",
      "5ead5cd44ae14003a08330749ae23dd0",
      "110bc62a540d41d891480d2579206c41",
      "942810b8fc5447ada6b206a93b2ba546",
      "75d911a8d894440d9d941d472e8f3a74",
      "bca17624e8f14e11896495a88bbe388c",
      "58e32fa1e07d4056a811103c597234b4",
      "6ca90d724dd94e13a5b5df0e4efacf07",
      "309a6557e55545d38a7bdb295c50ed2e",
      "0b86193a62aa4b408938b6a1774b7d15"
     ]
    },
    "id": "Lve5J_clgr31",
    "outputId": "118e30fd-5042-4895-dc58-57d46f7c8931"
   },
   "outputs": [
    {
     "name": "stderr",
     "output_type": "stream",
     "text": [
      "Reusing dataset pec (/Users/navjot/.cache/huggingface/datasets/pec/all/1.0.0/a0e28a0d00fd95a7c1673fba25f821c258963c8b85d1c46151888457f2f37efc)\n"
     ]
    },
    {
     "data": {
      "application/vnd.jupyter.widget-view+json": {
       "model_id": "ead03c858ebe4fe19e14fac7dea7123d",
       "version_major": 2,
       "version_minor": 0
      },
      "text/plain": [
       "  0%|          | 0/3 [00:00<?, ?it/s]"
      ]
     },
     "metadata": {},
     "output_type": "display_data"
    },
    {
     "name": "stdout",
     "output_type": "stream",
     "text": [
      "Dataset({\n",
      "    features: ['personas', 'context', 'context_speakers', 'response', 'response_speaker'],\n",
      "    num_rows: 281163\n",
      "})\n",
      ">>> get_persona_sentences: persona sentences for 148493 speakers loaded.\n"
     ]
    },
    {
     "name": "stderr",
     "output_type": "stream",
     "text": [
      "Some weights of the model checkpoint at allenai/longformer-base-4096 were not used when initializing LongformerModel: ['lm_head.bias', 'lm_head.dense.weight', 'lm_head.layer_norm.weight', 'lm_head.decoder.weight', 'lm_head.dense.bias', 'lm_head.layer_norm.bias']\n",
      "- This IS expected if you are initializing LongformerModel from the checkpoint of a model trained on another task or with another architecture (e.g. initializing a BertForSequenceClassification model from a BertForPreTraining model).\n",
      "- This IS NOT expected if you are initializing LongformerModel from the checkpoint of a model that you expect to be exactly identical (initializing a BertForSequenceClassification model from a BertForSequenceClassification model).\n"
     ]
    },
    {
     "name": "stdout",
     "output_type": "stream",
     "text": [
      ">>> Longformer tokenizer and model loaded.\n",
      ">>> Creating 148493 persona embeddings for train data at 2022-11-19 19:14:45.025103\n"
     ]
    },
    {
     "name": "stderr",
     "output_type": "stream",
     "text": [
      "\n",
      "KeyboardInterrupt\n",
      "\n"
     ]
    }
   ],
   "source": [
    "file_path = serialize_persona_embeddings('./', 'train', 'Longformer')\n",
    "# !gsutil cp {file_path} gs://{moel-data}/"
   ]
  },
  {
   "cell_type": "code",
   "execution_count": null,
   "metadata": {
    "id": "MiagTwGibsct"
   },
   "outputs": [],
   "source": [
    "file_path = serialize_persona_embeddings('/tmp/', 'validation', 'Longformer')\n",
    "!gsutil cp {file_path} gs://{moel-data}/"
   ]
  },
  {
   "cell_type": "code",
   "execution_count": null,
   "metadata": {
    "id": "goDyGcX9n01v"
   },
   "outputs": [],
   "source": [
    "file_path = serialize_persona_embeddings('/tmp/', 'test', 'Longformer')\n",
    "!gsutil cp {file_path} gs://{moel-data}/"
   ]
  },
  {
   "cell_type": "code",
   "execution_count": null,
   "metadata": {
    "id": "D1s5bJr9qieL"
   },
   "outputs": [],
   "source": []
  }
 ],
 "metadata": {
  "colab": {
   "collapsed_sections": [],
   "provenance": []
  },
  "kernelspec": {
   "display_name": "Python 3 (ipykernel)",
   "language": "python",
   "name": "python3"
  },
  "language_info": {
   "codemirror_mode": {
    "name": "ipython",
    "version": 3
   },
   "file_extension": ".py",
   "mimetype": "text/x-python",
   "name": "python",
   "nbconvert_exporter": "python",
   "pygments_lexer": "ipython3",
   "version": "3.9.12"
  },
  "widgets": {
   "application/vnd.jupyter.widget-state+json": {
    "0b86193a62aa4b408938b6a1774b7d15": {
     "model_module": "@jupyter-widgets/controls",
     "model_module_version": "1.5.0",
     "model_name": "DescriptionStyleModel",
     "state": {
      "_model_module": "@jupyter-widgets/controls",
      "_model_module_version": "1.5.0",
      "_model_name": "DescriptionStyleModel",
      "_view_count": null,
      "_view_module": "@jupyter-widgets/base",
      "_view_module_version": "1.2.0",
      "_view_name": "StyleView",
      "description_width": ""
     }
    },
    "110bc62a540d41d891480d2579206c41": {
     "model_module": "@jupyter-widgets/controls",
     "model_module_version": "1.5.0",
     "model_name": "HTMLModel",
     "state": {
      "_dom_classes": [],
      "_model_module": "@jupyter-widgets/controls",
      "_model_module_version": "1.5.0",
      "_model_name": "HTMLModel",
      "_view_count": null,
      "_view_module": "@jupyter-widgets/controls",
      "_view_module_version": "1.5.0",
      "_view_name": "HTMLView",
      "description": "",
      "description_tooltip": null,
      "layout": "IPY_MODEL_309a6557e55545d38a7bdb295c50ed2e",
      "placeholder": "​",
      "style": "IPY_MODEL_0b86193a62aa4b408938b6a1774b7d15",
      "value": " 3/3 [00:00&lt;00:00, 60.53it/s]"
     }
    },
    "309a6557e55545d38a7bdb295c50ed2e": {
     "model_module": "@jupyter-widgets/base",
     "model_module_version": "1.2.0",
     "model_name": "LayoutModel",
     "state": {
      "_model_module": "@jupyter-widgets/base",
      "_model_module_version": "1.2.0",
      "_model_name": "LayoutModel",
      "_view_count": null,
      "_view_module": "@jupyter-widgets/base",
      "_view_module_version": "1.2.0",
      "_view_name": "LayoutView",
      "align_content": null,
      "align_items": null,
      "align_self": null,
      "border": null,
      "bottom": null,
      "display": null,
      "flex": null,
      "flex_flow": null,
      "grid_area": null,
      "grid_auto_columns": null,
      "grid_auto_flow": null,
      "grid_auto_rows": null,
      "grid_column": null,
      "grid_gap": null,
      "grid_row": null,
      "grid_template_areas": null,
      "grid_template_columns": null,
      "grid_template_rows": null,
      "height": null,
      "justify_content": null,
      "justify_items": null,
      "left": null,
      "margin": null,
      "max_height": null,
      "max_width": null,
      "min_height": null,
      "min_width": null,
      "object_fit": null,
      "object_position": null,
      "order": null,
      "overflow": null,
      "overflow_x": null,
      "overflow_y": null,
      "padding": null,
      "right": null,
      "top": null,
      "visibility": null,
      "width": null
     }
    },
    "58e32fa1e07d4056a811103c597234b4": {
     "model_module": "@jupyter-widgets/base",
     "model_module_version": "1.2.0",
     "model_name": "LayoutModel",
     "state": {
      "_model_module": "@jupyter-widgets/base",
      "_model_module_version": "1.2.0",
      "_model_name": "LayoutModel",
      "_view_count": null,
      "_view_module": "@jupyter-widgets/base",
      "_view_module_version": "1.2.0",
      "_view_name": "LayoutView",
      "align_content": null,
      "align_items": null,
      "align_self": null,
      "border": null,
      "bottom": null,
      "display": null,
      "flex": null,
      "flex_flow": null,
      "grid_area": null,
      "grid_auto_columns": null,
      "grid_auto_flow": null,
      "grid_auto_rows": null,
      "grid_column": null,
      "grid_gap": null,
      "grid_row": null,
      "grid_template_areas": null,
      "grid_template_columns": null,
      "grid_template_rows": null,
      "height": null,
      "justify_content": null,
      "justify_items": null,
      "left": null,
      "margin": null,
      "max_height": null,
      "max_width": null,
      "min_height": null,
      "min_width": null,
      "object_fit": null,
      "object_position": null,
      "order": null,
      "overflow": null,
      "overflow_x": null,
      "overflow_y": null,
      "padding": null,
      "right": null,
      "top": null,
      "visibility": null,
      "width": null
     }
    },
    "5ead5cd44ae14003a08330749ae23dd0": {
     "model_module": "@jupyter-widgets/controls",
     "model_module_version": "1.5.0",
     "model_name": "FloatProgressModel",
     "state": {
      "_dom_classes": [],
      "_model_module": "@jupyter-widgets/controls",
      "_model_module_version": "1.5.0",
      "_model_name": "FloatProgressModel",
      "_view_count": null,
      "_view_module": "@jupyter-widgets/controls",
      "_view_module_version": "1.5.0",
      "_view_name": "ProgressView",
      "bar_style": "success",
      "description": "",
      "description_tooltip": null,
      "layout": "IPY_MODEL_58e32fa1e07d4056a811103c597234b4",
      "max": 3,
      "min": 0,
      "orientation": "horizontal",
      "style": "IPY_MODEL_6ca90d724dd94e13a5b5df0e4efacf07",
      "value": 3
     }
    },
    "678f9a92388c49ba972a5d5f63a2eedf": {
     "model_module": "@jupyter-widgets/controls",
     "model_module_version": "1.5.0",
     "model_name": "HTMLModel",
     "state": {
      "_dom_classes": [],
      "_model_module": "@jupyter-widgets/controls",
      "_model_module_version": "1.5.0",
      "_model_name": "HTMLModel",
      "_view_count": null,
      "_view_module": "@jupyter-widgets/controls",
      "_view_module_version": "1.5.0",
      "_view_name": "HTMLView",
      "description": "",
      "description_tooltip": null,
      "layout": "IPY_MODEL_75d911a8d894440d9d941d472e8f3a74",
      "placeholder": "​",
      "style": "IPY_MODEL_bca17624e8f14e11896495a88bbe388c",
      "value": "100%"
     }
    },
    "6ca90d724dd94e13a5b5df0e4efacf07": {
     "model_module": "@jupyter-widgets/controls",
     "model_module_version": "1.5.0",
     "model_name": "ProgressStyleModel",
     "state": {
      "_model_module": "@jupyter-widgets/controls",
      "_model_module_version": "1.5.0",
      "_model_name": "ProgressStyleModel",
      "_view_count": null,
      "_view_module": "@jupyter-widgets/base",
      "_view_module_version": "1.2.0",
      "_view_name": "StyleView",
      "bar_color": null,
      "description_width": ""
     }
    },
    "75d911a8d894440d9d941d472e8f3a74": {
     "model_module": "@jupyter-widgets/base",
     "model_module_version": "1.2.0",
     "model_name": "LayoutModel",
     "state": {
      "_model_module": "@jupyter-widgets/base",
      "_model_module_version": "1.2.0",
      "_model_name": "LayoutModel",
      "_view_count": null,
      "_view_module": "@jupyter-widgets/base",
      "_view_module_version": "1.2.0",
      "_view_name": "LayoutView",
      "align_content": null,
      "align_items": null,
      "align_self": null,
      "border": null,
      "bottom": null,
      "display": null,
      "flex": null,
      "flex_flow": null,
      "grid_area": null,
      "grid_auto_columns": null,
      "grid_auto_flow": null,
      "grid_auto_rows": null,
      "grid_column": null,
      "grid_gap": null,
      "grid_row": null,
      "grid_template_areas": null,
      "grid_template_columns": null,
      "grid_template_rows": null,
      "height": null,
      "justify_content": null,
      "justify_items": null,
      "left": null,
      "margin": null,
      "max_height": null,
      "max_width": null,
      "min_height": null,
      "min_width": null,
      "object_fit": null,
      "object_position": null,
      "order": null,
      "overflow": null,
      "overflow_x": null,
      "overflow_y": null,
      "padding": null,
      "right": null,
      "top": null,
      "visibility": null,
      "width": null
     }
    },
    "942810b8fc5447ada6b206a93b2ba546": {
     "model_module": "@jupyter-widgets/base",
     "model_module_version": "1.2.0",
     "model_name": "LayoutModel",
     "state": {
      "_model_module": "@jupyter-widgets/base",
      "_model_module_version": "1.2.0",
      "_model_name": "LayoutModel",
      "_view_count": null,
      "_view_module": "@jupyter-widgets/base",
      "_view_module_version": "1.2.0",
      "_view_name": "LayoutView",
      "align_content": null,
      "align_items": null,
      "align_self": null,
      "border": null,
      "bottom": null,
      "display": null,
      "flex": null,
      "flex_flow": null,
      "grid_area": null,
      "grid_auto_columns": null,
      "grid_auto_flow": null,
      "grid_auto_rows": null,
      "grid_column": null,
      "grid_gap": null,
      "grid_row": null,
      "grid_template_areas": null,
      "grid_template_columns": null,
      "grid_template_rows": null,
      "height": null,
      "justify_content": null,
      "justify_items": null,
      "left": null,
      "margin": null,
      "max_height": null,
      "max_width": null,
      "min_height": null,
      "min_width": null,
      "object_fit": null,
      "object_position": null,
      "order": null,
      "overflow": null,
      "overflow_x": null,
      "overflow_y": null,
      "padding": null,
      "right": null,
      "top": null,
      "visibility": null,
      "width": null
     }
    },
    "bca17624e8f14e11896495a88bbe388c": {
     "model_module": "@jupyter-widgets/controls",
     "model_module_version": "1.5.0",
     "model_name": "DescriptionStyleModel",
     "state": {
      "_model_module": "@jupyter-widgets/controls",
      "_model_module_version": "1.5.0",
      "_model_name": "DescriptionStyleModel",
      "_view_count": null,
      "_view_module": "@jupyter-widgets/base",
      "_view_module_version": "1.2.0",
      "_view_name": "StyleView",
      "description_width": ""
     }
    },
    "d10d8fb69f0e4700a36b6380f6eeac6c": {
     "model_module": "@jupyter-widgets/controls",
     "model_module_version": "1.5.0",
     "model_name": "HBoxModel",
     "state": {
      "_dom_classes": [],
      "_model_module": "@jupyter-widgets/controls",
      "_model_module_version": "1.5.0",
      "_model_name": "HBoxModel",
      "_view_count": null,
      "_view_module": "@jupyter-widgets/controls",
      "_view_module_version": "1.5.0",
      "_view_name": "HBoxView",
      "box_style": "",
      "children": [
       "IPY_MODEL_678f9a92388c49ba972a5d5f63a2eedf",
       "IPY_MODEL_5ead5cd44ae14003a08330749ae23dd0",
       "IPY_MODEL_110bc62a540d41d891480d2579206c41"
      ],
      "layout": "IPY_MODEL_942810b8fc5447ada6b206a93b2ba546"
     }
    }
   }
  }
 },
 "nbformat": 4,
 "nbformat_minor": 1
}
