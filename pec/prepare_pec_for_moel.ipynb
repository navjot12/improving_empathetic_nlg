{
 "cells": [
  {
   "cell_type": "code",
   "execution_count": 1,
   "id": "a6099545",
   "metadata": {},
   "outputs": [],
   "source": [
    "import numpy as np\n",
    "from datasets import load_from_disk"
   ]
  },
  {
   "cell_type": "code",
   "execution_count": 2,
   "id": "7129c69c",
   "metadata": {},
   "outputs": [],
   "source": [
    "def transform(data, split):\n",
    "    contexts = [context[0].split(' . ') for context in data['context']]\n",
    "    np.save('pec_dialog_texts.' + split + '.npy', contexts)\n",
    "\n",
    "    np.save('pec_target_texts.' + split + '.npy', data['response_speaker'])\n",
    "\n",
    "    np.save('pec_persona_embedding.' + split + '.npy', data['persona_embedding'])\n",
    "    \n",
    "    print('Transformed', split)"
   ]
  },
  {
   "cell_type": "code",
   "execution_count": null,
   "id": "fd8b5ed7",
   "metadata": {},
   "outputs": [],
   "source": [
    "transform(load_from_disk('pec-train'), 'train')\n",
    "transform(load_from_disk('pec-val'), 'dev')\n",
    "transform(load_from_disk('pec-test'), 'test')"
   ]
  }
 ],
 "metadata": {
  "kernelspec": {
   "display_name": "Python 3 (ipykernel)",
   "language": "python",
   "name": "python3"
  },
  "language_info": {
   "codemirror_mode": {
    "name": "ipython",
    "version": 3
   },
   "file_extension": ".py",
   "mimetype": "text/x-python",
   "name": "python",
   "nbconvert_exporter": "python",
   "pygments_lexer": "ipython3",
   "version": "3.9.12"
  }
 },
 "nbformat": 4,
 "nbformat_minor": 5
}
